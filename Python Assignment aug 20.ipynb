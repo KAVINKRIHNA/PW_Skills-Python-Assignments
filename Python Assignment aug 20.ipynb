{
 "cells": [
  {
   "cell_type": "markdown",
   "id": "71abd92d",
   "metadata": {},
   "source": [
    "# String Based Assingment Problem"
   ]
  },
  {
   "cell_type": "code",
   "execution_count": null,
   "id": "ebce8e24",
   "metadata": {},
   "outputs": [],
   "source": [
    "# 1.Write a program to reverse a string."
   ]
  },
  {
   "cell_type": "code",
   "execution_count": 2,
   "id": "59342d2f",
   "metadata": {},
   "outputs": [
    {
     "name": "stdout",
     "output_type": "stream",
     "text": [
      "nohtyP\n"
     ]
    }
   ],
   "source": [
    "name = 'Python'\n",
    "reverse_name = name[::-1]\n",
    "print(reverse_name)"
   ]
  },
  {
   "cell_type": "code",
   "execution_count": 3,
   "id": "15d5b8f1",
   "metadata": {},
   "outputs": [],
   "source": [
    "# 2.Check if a string is a palindrome."
   ]
  },
  {
   "cell_type": "code",
   "execution_count": 4,
   "id": "76844ecf",
   "metadata": {},
   "outputs": [
    {
     "name": "stdout",
     "output_type": "stream",
     "text": [
      "Enter a string :- toyot\n",
      "Given String is Palindrome\n",
      "None\n"
     ]
    }
   ],
   "source": [
    "def isPalindrome(string):\n",
    "    if (string == string[::-1]):\n",
    "        print(\"Given String is Palindrome\")\n",
    "    else:\n",
    "        print(\"Given String is not a Palindrome\")\n",
    "string = input(\"Enter a string :- \")\n",
    "print(isPalindrome(string))"
   ]
  },
  {
   "cell_type": "code",
   "execution_count": null,
   "id": "f39dcdf4",
   "metadata": {},
   "outputs": [],
   "source": [
    "# 3.Convert a string to uppercase."
   ]
  },
  {
   "cell_type": "code",
   "execution_count": 5,
   "id": "b6658d9b",
   "metadata": {},
   "outputs": [
    {
     "name": "stdout",
     "output_type": "stream",
     "text": [
      "KAVINKRISHNA\n"
     ]
    }
   ],
   "source": [
    "name = 'kavinkrishna'\n",
    "print(name.upper())"
   ]
  },
  {
   "cell_type": "code",
   "execution_count": null,
   "id": "6d67754c",
   "metadata": {},
   "outputs": [],
   "source": [
    "# 4.Convert a string to lowercase."
   ]
  },
  {
   "cell_type": "code",
   "execution_count": 7,
   "id": "18f48890",
   "metadata": {},
   "outputs": [
    {
     "name": "stdout",
     "output_type": "stream",
     "text": [
      "mythili\n"
     ]
    }
   ],
   "source": [
    "user = 'MYTHILI'\n",
    "print(user.lower())"
   ]
  },
  {
   "cell_type": "code",
   "execution_count": null,
   "id": "49534092",
   "metadata": {},
   "outputs": [],
   "source": [
    "# 5. Count the number of vowels in a string."
   ]
  },
  {
   "cell_type": "code",
   "execution_count": 17,
   "id": "d0ccfa9a",
   "metadata": {},
   "outputs": [
    {
     "name": "stdout",
     "output_type": "stream",
     "text": [
      "Enter a string:- hi how are you\n",
      "Number of vowels present:- '6'\n"
     ]
    }
   ],
   "source": [
    "strr = input('Enter a string:- ')\n",
    "vowel_count = 0\n",
    "vowels = ['a','e','i','o','u']\n",
    "strr = strr.lower()\n",
    "for char in strr:\n",
    "    if char in vowels:\n",
    "        vowel_count += 1\n",
    "print(f\"Number of vowels present:- '{vowel_count}'\")"
   ]
  },
  {
   "cell_type": "code",
   "execution_count": 1,
   "id": "f0075179",
   "metadata": {},
   "outputs": [],
   "source": [
    "#6. Count the number of consonants in a string."
   ]
  },
  {
   "cell_type": "code",
   "execution_count": 16,
   "id": "81efae1a",
   "metadata": {},
   "outputs": [
    {
     "name": "stdout",
     "output_type": "stream",
     "text": [
      "Enter a string:- Kavi priyan\n",
      "Number of consonants present:- '6'\n"
     ]
    }
   ],
   "source": [
    "str1 = input('Enter a string:- ')\n",
    "consonant_count = 0\n",
    "vowels = {'a','e','i','o','u'}\n",
    "str1 = str1.lower()\n",
    "for char in str1:\n",
    "    if char.isalpha() and char not in vowels:\n",
    "        consonant_count += 1\n",
    "print(f\"Number of consonants present:- '{consonant_count}'\")"
   ]
  },
  {
   "cell_type": "code",
   "execution_count": null,
   "id": "8c452651",
   "metadata": {},
   "outputs": [],
   "source": [
    "# 7.Remove all whitespaces from a string."
   ]
  },
  {
   "cell_type": "code",
   "execution_count": 2,
   "id": "159e6d2b",
   "metadata": {},
   "outputs": [
    {
     "name": "stdout",
     "output_type": "stream",
     "text": [
      "chennai\n"
     ]
    }
   ],
   "source": [
    "str1 = \" che nn a i\"\n",
    "str1 = str1.replace(\" \",\"\")\n",
    "print(str1)"
   ]
  },
  {
   "cell_type": "code",
   "execution_count": null,
   "id": "4b6ebcd7",
   "metadata": {},
   "outputs": [],
   "source": [
    "# 8. Find the length of a string without using the `len()` function."
   ]
  },
  {
   "cell_type": "code",
   "execution_count": 7,
   "id": "6c423934",
   "metadata": {},
   "outputs": [
    {
     "name": "stdout",
     "output_type": "stream",
     "text": [
      "Enter a string:- world cup 2023\n",
      "14\n"
     ]
    }
   ],
   "source": [
    "input_string = input('Enter a string:- ')\n",
    "length = 0\n",
    "for char in input_string:\n",
    "    length += 1\n",
    "print(length)"
   ]
  },
  {
   "cell_type": "code",
   "execution_count": null,
   "id": "9eda4afd",
   "metadata": {},
   "outputs": [],
   "source": [
    "# 9. Check if a string contains a specific word."
   ]
  },
  {
   "cell_type": "code",
   "execution_count": 11,
   "id": "5af8242d",
   "metadata": {},
   "outputs": [
    {
     "name": "stdout",
     "output_type": "stream",
     "text": [
      "True\n"
     ]
    }
   ],
   "source": [
    "events = ['dance','singing','mime','drama'] \n",
    "print('mime' in events)"
   ]
  },
  {
   "cell_type": "code",
   "execution_count": null,
   "id": "417a39da",
   "metadata": {},
   "outputs": [],
   "source": [
    "#10. Replace a word in a string with another word."
   ]
  },
  {
   "cell_type": "code",
   "execution_count": 13,
   "id": "99e8ac96",
   "metadata": {},
   "outputs": [
    {
     "name": "stdout",
     "output_type": "stream",
     "text": [
      "He scored a hundred\n"
     ]
    }
   ],
   "source": [
    "abc = 'He scored a fifty'\n",
    "abc = abc.replace('fifty','hundred')\n",
    "print(abc)"
   ]
  },
  {
   "cell_type": "code",
   "execution_count": null,
   "id": "83513b10",
   "metadata": {},
   "outputs": [],
   "source": [
    "#11. Count the occurrences of a word in a string."
   ]
  },
  {
   "cell_type": "code",
   "execution_count": 14,
   "id": "12b39db1",
   "metadata": {},
   "outputs": [
    {
     "name": "stdout",
     "output_type": "stream",
     "text": [
      "Enter a sentence:- dhoni finishes off in style india lift the worldcup\n",
      "Enter the target word:- india\n",
      "1\n"
     ]
    }
   ],
   "source": [
    "input_str = input('Enter a sentence:- ')\n",
    "target_word = input('Enter the target word:- ')\n",
    "word_count = 0\n",
    "words = input_str.split()\n",
    "for word in words:\n",
    "    if word == target_word:\n",
    "        word_count += 1\n",
    "print(word_count)"
   ]
  },
  {
   "cell_type": "code",
   "execution_count": null,
   "id": "3b8f2cf3",
   "metadata": {},
   "outputs": [],
   "source": [
    "#14. Split a string into a list of words."
   ]
  },
  {
   "cell_type": "code",
   "execution_count": 15,
   "id": "fec2b3c9",
   "metadata": {},
   "outputs": [
    {
     "name": "stdout",
     "output_type": "stream",
     "text": [
      "Enter a sentence:- Dont lose your hope\n",
      "['Dont', 'lose', 'your', 'hope']\n"
     ]
    }
   ],
   "source": [
    "str2 = input('Enter a sentence:- ')\n",
    "str2 = str2.split()\n",
    "print(str2)"
   ]
  },
  {
   "cell_type": "code",
   "execution_count": null,
   "id": "3ed51cb3",
   "metadata": {},
   "outputs": [],
   "source": [
    "#15. Join a list of words into a string."
   ]
  },
  {
   "cell_type": "code",
   "execution_count": 16,
   "id": "8107b1fa",
   "metadata": {},
   "outputs": [
    {
     "name": "stdout",
     "output_type": "stream",
     "text": [
      "Keepontrying\n"
     ]
    }
   ],
   "source": [
    "str3 = ['Keep','on','trying']\n",
    "str3 = ''.join(str3)\n",
    "print(str3)"
   ]
  },
  {
   "cell_type": "code",
   "execution_count": null,
   "id": "d6b7c005",
   "metadata": {},
   "outputs": [],
   "source": [
    "#16. Convert a string where words are separated by spaces to one where words are separated by underscores."
   ]
  },
  {
   "cell_type": "code",
   "execution_count": 1,
   "id": "4b797961",
   "metadata": {},
   "outputs": [
    {
     "name": "stdout",
     "output_type": "stream",
     "text": [
      "Leo_Trailer_is_out_now!\n"
     ]
    }
   ],
   "source": [
    "original_string = 'Leo Trailer is out now!'\n",
    "underscored_string = original_string.replace(\" \",\"_\")\n",
    "print(underscored_string)"
   ]
  },
  {
   "cell_type": "code",
   "execution_count": null,
   "id": "e24bbf99",
   "metadata": {},
   "outputs": [],
   "source": [
    "#17. Check if a string starts with a specific word or phrase."
   ]
  },
  {
   "cell_type": "code",
   "execution_count": 3,
   "id": "fee1f35d",
   "metadata": {},
   "outputs": [
    {
     "name": "stdout",
     "output_type": "stream",
     "text": [
      "String starts with the word 'India'\n"
     ]
    }
   ],
   "source": [
    "string = \"India facing Australia on 8th october\"\n",
    "specific_word = 'India'\n",
    "if string.startswith(specific_word):\n",
    "    print(f\"String starts with the word '{specific_word}'\")\n",
    "else:\n",
    "    print(f\"String not starts with the word '{specific_word}'\")"
   ]
  },
  {
   "cell_type": "code",
   "execution_count": null,
   "id": "e6f3e185",
   "metadata": {},
   "outputs": [],
   "source": [
    "#18. Check if a string ends with a specific word or phrase."
   ]
  },
  {
   "cell_type": "code",
   "execution_count": 1,
   "id": "88efd888",
   "metadata": {},
   "outputs": [
    {
     "name": "stdout",
     "output_type": "stream",
     "text": [
      "String ends with the word 'october'\n"
     ]
    }
   ],
   "source": [
    "string = \"India facing Australia on 8th october\"\n",
    "specific_word = 'october'\n",
    "if string.endswith(specific_word):\n",
    "    print(f\"String ends with the word '{specific_word}'\")\n",
    "else:\n",
    "    print(f\"String not ends with the word '{specific_word}'\")"
   ]
  },
  {
   "cell_type": "code",
   "execution_count": null,
   "id": "cecb1e5e",
   "metadata": {},
   "outputs": [],
   "source": [
    "#19. Convert a string to title case"
   ]
  },
  {
   "cell_type": "code",
   "execution_count": 6,
   "id": "7c876cb8",
   "metadata": {},
   "outputs": [
    {
     "name": "stdout",
     "output_type": "stream",
     "text": [
      "Im A Human\n"
     ]
    }
   ],
   "source": [
    "string = 'im a human'\n",
    "modified_string = string.title()\n",
    "print(modified_string)"
   ]
  },
  {
   "cell_type": "code",
   "execution_count": null,
   "id": "00d486e6",
   "metadata": {},
   "outputs": [],
   "source": [
    "#20. Find the longest word in a string."
   ]
  },
  {
   "cell_type": "code",
   "execution_count": 7,
   "id": "1c0604fd",
   "metadata": {},
   "outputs": [
    {
     "name": "stdout",
     "output_type": "stream",
     "text": [
      "The longest word in thr string is 'cream'\n"
     ]
    }
   ],
   "source": [
    "string = 'I like ice cream'\n",
    "string_split = string.split()\n",
    "longest_word = ''\n",
    "max_length = 0\n",
    "for word in string_split:\n",
    "    if len(word) > max_length:\n",
    "        max_length = len(word)\n",
    "        longest_word = word\n",
    "print(f\"The longest word in thr string is '{longest_word}'\")"
   ]
  },
  {
   "cell_type": "code",
   "execution_count": null,
   "id": "ac3a9405",
   "metadata": {},
   "outputs": [],
   "source": [
    "#21. Find the shortest word in a string."
   ]
  },
  {
   "cell_type": "code",
   "execution_count": 8,
   "id": "b32be8b6",
   "metadata": {},
   "outputs": [
    {
     "name": "stdout",
     "output_type": "stream",
     "text": [
      "The shortest word in thr string is 'I'\n"
     ]
    }
   ],
   "source": [
    "string = 'I like ice cream'\n",
    "string_split = string.split()\n",
    "shortest_word = None\n",
    "min_length = float('inf')\n",
    "for word in string_split:\n",
    "    if len(word) < min_length:\n",
    "        min_length = len(word)\n",
    "        shortest_word = word\n",
    "print(f\"The shortest word in thr string is '{shortest_word}'\")"
   ]
  },
  {
   "cell_type": "code",
   "execution_count": null,
   "id": "9f0827bf",
   "metadata": {},
   "outputs": [],
   "source": [
    "#22. Reverse the order of words in a string."
   ]
  },
  {
   "cell_type": "code",
   "execution_count": 9,
   "id": "8e6ac4f0",
   "metadata": {},
   "outputs": [
    {
     "name": "stdout",
     "output_type": "stream",
     "text": [
      "brave and bold Be\n"
     ]
    }
   ],
   "source": [
    "string = 'Be bold and brave'\n",
    "words = string.split()\n",
    "rev_string = ' '.join(reversed(words))\n",
    "print(rev_string)"
   ]
  },
  {
   "cell_type": "code",
   "execution_count": null,
   "id": "5a83b952",
   "metadata": {},
   "outputs": [],
   "source": [
    "#23. Check if a string is alphanumeric."
   ]
  },
  {
   "cell_type": "code",
   "execution_count": 13,
   "id": "d77718e8",
   "metadata": {},
   "outputs": [
    {
     "name": "stdout",
     "output_type": "stream",
     "text": [
      "True\n"
     ]
    }
   ],
   "source": [
    "string = 'hi5'\n",
    "print(string.isalnum())"
   ]
  },
  {
   "cell_type": "code",
   "execution_count": null,
   "id": "f0dacee9",
   "metadata": {},
   "outputs": [],
   "source": [
    "#24. Extract all digits from a string."
   ]
  },
  {
   "cell_type": "code",
   "execution_count": 14,
   "id": "cbd9930a",
   "metadata": {},
   "outputs": [
    {
     "name": "stdout",
     "output_type": "stream",
     "text": [
      "['1', '2', '3', '4', '5', '6']\n"
     ]
    }
   ],
   "source": [
    "string = '123Hello456'\n",
    "digits = []\n",
    "for char in string:\n",
    "    if char.isdigit():\n",
    "        digits.append(char)\n",
    "print(digits)"
   ]
  },
  {
   "cell_type": "code",
   "execution_count": null,
   "id": "9da9d0f9",
   "metadata": {},
   "outputs": [],
   "source": [
    "#25. Extract all alphabets from a string."
   ]
  },
  {
   "cell_type": "code",
   "execution_count": 15,
   "id": "cb4145ed",
   "metadata": {},
   "outputs": [
    {
     "name": "stdout",
     "output_type": "stream",
     "text": [
      "['H', 'e', 'l', 'l', 'o']\n"
     ]
    }
   ],
   "source": [
    "string = '123Hello456'\n",
    "alphabets = []\n",
    "for char in string:\n",
    "    if char.isalpha():\n",
    "        alphabets.append(char)\n",
    "print(alphabets)"
   ]
  },
  {
   "cell_type": "code",
   "execution_count": null,
   "id": "894227aa",
   "metadata": {},
   "outputs": [],
   "source": [
    "#26. Count the number of uppercase letters in a string."
   ]
  },
  {
   "cell_type": "code",
   "execution_count": 16,
   "id": "3ae128a6",
   "metadata": {},
   "outputs": [
    {
     "name": "stdout",
     "output_type": "stream",
     "text": [
      "3\n"
     ]
    }
   ],
   "source": [
    "string = \"Hello WorLd\"\n",
    "uppercase_count = 0\n",
    "for char in string:\n",
    "    if char.isupper():\n",
    "        uppercase_count += 1\n",
    "print(uppercase_count)"
   ]
  },
  {
   "cell_type": "code",
   "execution_count": null,
   "id": "d5181185",
   "metadata": {},
   "outputs": [],
   "source": [
    "#27. Count the number of lowercase letters in a string."
   ]
  },
  {
   "cell_type": "code",
   "execution_count": 17,
   "id": "1d6801eb",
   "metadata": {},
   "outputs": [
    {
     "name": "stdout",
     "output_type": "stream",
     "text": [
      "7\n"
     ]
    }
   ],
   "source": [
    "string = \"Hello WorLd\"\n",
    "lowercase_count = 0\n",
    "for char in string:\n",
    "    if char.islower():\n",
    "        lowercase_count += 1\n",
    "print(lowercase_count)"
   ]
  },
  {
   "cell_type": "code",
   "execution_count": null,
   "id": "1613be45",
   "metadata": {},
   "outputs": [],
   "source": [
    "#28. Swap the case of each character in a string."
   ]
  },
  {
   "cell_type": "code",
   "execution_count": 18,
   "id": "58d8ccd8",
   "metadata": {},
   "outputs": [
    {
     "name": "stdout",
     "output_type": "stream",
     "text": [
      "gOOD aFTERNOON\n"
     ]
    }
   ],
   "source": [
    "string = \"Good Afternoon\"\n",
    "string = string.swapcase()\n",
    "print(string)"
   ]
  },
  {
   "cell_type": "code",
   "execution_count": null,
   "id": "241dd125",
   "metadata": {},
   "outputs": [],
   "source": [
    "#29. Remove a specific word from a string."
   ]
  },
  {
   "cell_type": "code",
   "execution_count": 22,
   "id": "b2790e15",
   "metadata": {},
   "outputs": [
    {
     "name": "stdout",
     "output_type": "stream",
     "text": [
      "I like  milkshake\n"
     ]
    }
   ],
   "source": [
    "string = \"I like oreo milkshake\"\n",
    "word_to_remove = 'oreo'\n",
    "string = string.replace(word_to_remove,\"\")\n",
    "print(string)"
   ]
  },
  {
   "cell_type": "code",
   "execution_count": null,
   "id": "08246dbd",
   "metadata": {},
   "outputs": [],
   "source": [
    "#30. Check if a string is a valid email address."
   ]
  },
  {
   "cell_type": "code",
   "execution_count": 23,
   "id": "6f4fc12f",
   "metadata": {},
   "outputs": [
    {
     "name": "stdout",
     "output_type": "stream",
     "text": [
      "'sample@gmail.com' is a valid email address\n"
     ]
    }
   ],
   "source": [
    "email = 'sample@gmail.com'\n",
    "if \"@\" in email and \".\" in email and not any(char.isupper() for char in email):\n",
    "    print(f\"'{email}' is a valid email address\")\n",
    "else:\n",
    "    print(f\"'{email}' is not a valid email address\")"
   ]
  },
  {
   "cell_type": "code",
   "execution_count": null,
   "id": "8c5a664d",
   "metadata": {},
   "outputs": [],
   "source": [
    "#31. Extract the username from an email address string."
   ]
  },
  {
   "cell_type": "code",
   "execution_count": 24,
   "id": "67b8c3e4",
   "metadata": {},
   "outputs": [
    {
     "name": "stdout",
     "output_type": "stream",
     "text": [
      "sample\n"
     ]
    }
   ],
   "source": [
    "email = 'sample@gmail.com'\n",
    "user_name = email.split(\"@\")[0]\n",
    "print(user_name)"
   ]
  },
  {
   "cell_type": "code",
   "execution_count": null,
   "id": "18f202df",
   "metadata": {},
   "outputs": [],
   "source": [
    "#32. Extract the domain name from an email address string."
   ]
  },
  {
   "cell_type": "code",
   "execution_count": 25,
   "id": "3ddb0b32",
   "metadata": {},
   "outputs": [
    {
     "name": "stdout",
     "output_type": "stream",
     "text": [
      "gmail.com\n"
     ]
    }
   ],
   "source": [
    "email = 'sample@gmail.com'\n",
    "domain_name = email.split(\"@\")[1]\n",
    "print(domain_name)"
   ]
  },
  {
   "cell_type": "code",
   "execution_count": null,
   "id": "db508294",
   "metadata": {},
   "outputs": [],
   "source": [
    "#33. Replace multiple spaces in a string with a single space."
   ]
  },
  {
   "cell_type": "code",
   "execution_count": 27,
   "id": "414cfe29",
   "metadata": {},
   "outputs": [
    {
     "name": "stdout",
     "output_type": "stream",
     "text": [
      "Python was easy and powerful\n"
     ]
    }
   ],
   "source": [
    "string = \"Python    was    easy     and            powerful\"\n",
    "string = ' '.join(string.split())\n",
    "print(string)"
   ]
  },
  {
   "cell_type": "code",
   "execution_count": null,
   "id": "00dd6882",
   "metadata": {},
   "outputs": [],
   "source": [
    "#34. Check if a string is a valid URL."
   ]
  },
  {
   "cell_type": "code",
   "execution_count": 28,
   "id": "e1612010",
   "metadata": {},
   "outputs": [
    {
     "name": "stdout",
     "output_type": "stream",
     "text": [
      "'https://www.w3schools.com/python/python_strings_methods.asp' is a valid URL\n"
     ]
    }
   ],
   "source": [
    "url = 'https://www.w3schools.com/python/python_strings_methods.asp'\n",
    "if url.startswith('http://') or url.startswith('https://'):\n",
    "    print(f\"'{url}' is a valid URL\")\n",
    "else:\n",
    "    print(f\"'{url}' is not a valid URL\")"
   ]
  },
  {
   "cell_type": "code",
   "execution_count": null,
   "id": "4c747855",
   "metadata": {},
   "outputs": [],
   "source": [
    "#35. Extract the protocol (http or https) from a URL string."
   ]
  },
  {
   "cell_type": "code",
   "execution_count": 3,
   "id": "993051ee",
   "metadata": {},
   "outputs": [
    {
     "name": "stdout",
     "output_type": "stream",
     "text": [
      "The protocol is 'https''\n"
     ]
    }
   ],
   "source": [
    "url = 'https://www.w3schools.com/pj'\n",
    "parts = url.split('://')\n",
    "if parts[0]==\"http\" or parts[0]==\"https\":\n",
    "    protocol = parts[0]\n",
    "    print(f\"The protocol is '{protocol}''\")\n",
    "else:\n",
    "    print(\"Invalid protocol\")"
   ]
  },
  {
   "cell_type": "code",
   "execution_count": null,
   "id": "b5e0a520",
   "metadata": {},
   "outputs": [],
   "source": [
    "#36. Find the frequency of each character in a string."
   ]
  },
  {
   "cell_type": "code",
   "execution_count": 32,
   "id": "e955039d",
   "metadata": {},
   "outputs": [
    {
     "name": "stdout",
     "output_type": "stream",
     "text": [
      "'M' appears '1' times.\n",
      "'a' appears '3' times.\n",
      "'n' appears '3' times.\n",
      "'j' appears '1' times.\n",
      "'u' appears '1' times.\n",
      "'t' appears '1' times.\n",
      "'h' appears '1' times.\n"
     ]
    }
   ],
   "source": [
    "string = \"Manjunathan\"\n",
    "character_frequency = {}\n",
    "for char in string:\n",
    "    if char.isalnum():\n",
    "        if char in charcter_frequency:\n",
    "            character_frequency[char] += 1\n",
    "        else:\n",
    "            character_frequency[char] = 1\n",
    "for char, count in character_frequency.items():\n",
    "    print(f\"'{char}' appears '{count}' times.\")"
   ]
  },
  {
   "cell_type": "code",
   "execution_count": null,
   "id": "554b5a4d",
   "metadata": {},
   "outputs": [],
   "source": [
    "#37. Remove all punctuation from a string."
   ]
  },
  {
   "cell_type": "code",
   "execution_count": 36,
   "id": "619683ea",
   "metadata": {},
   "outputs": [
    {
     "name": "stdout",
     "output_type": "stream",
     "text": [
      " Morning i ate 3 dosa 2 vada 1 coffee Now i want briyani \n"
     ]
    }
   ],
   "source": [
    "string = \"Morning i ate 3 dosa, 2 vada, 1 coffee. Now i want briyani. \"\n",
    "punctuation = '''!\"#$%&'()*+,-./:;<=>?@[\\]^_`{|}~'''\n",
    "cleaned_string = \" \"\n",
    "for char in string:\n",
    "    if char not in punctuation:\n",
    "        cleaned_string += char\n",
    "print(cleaned_string)"
   ]
  },
  {
   "cell_type": "code",
   "execution_count": null,
   "id": "e5e85183",
   "metadata": {},
   "outputs": [],
   "source": [
    "#38. Check if a string contains only digits."
   ]
  },
  {
   "cell_type": "code",
   "execution_count": 37,
   "id": "b5487a90",
   "metadata": {},
   "outputs": [
    {
     "name": "stdout",
     "output_type": "stream",
     "text": [
      "True\n"
     ]
    }
   ],
   "source": [
    "input_string = \"1234567\"\n",
    "print(input_string.isdigit())"
   ]
  },
  {
   "cell_type": "code",
   "execution_count": null,
   "id": "0c2233bc",
   "metadata": {},
   "outputs": [],
   "source": [
    "#39. Check if a string contains only alphabets."
   ]
  },
  {
   "cell_type": "code",
   "execution_count": 38,
   "id": "298a82a4",
   "metadata": {},
   "outputs": [
    {
     "name": "stdout",
     "output_type": "stream",
     "text": [
      "True\n"
     ]
    }
   ],
   "source": [
    "input_string = \"prakaashraj\"\n",
    "print(input_string.isalpha())"
   ]
  },
  {
   "cell_type": "code",
   "execution_count": null,
   "id": "db8af8cf",
   "metadata": {},
   "outputs": [],
   "source": [
    "#40. Convert a string to a list of characters."
   ]
  },
  {
   "cell_type": "code",
   "execution_count": 41,
   "id": "b7aef0be",
   "metadata": {},
   "outputs": [
    {
     "name": "stdout",
     "output_type": "stream",
     "text": [
      "['N', 'a', 'v', 'e', 'e', 'n', 'a', 'M', 'a', 'r', 'i', 'a']\n"
     ]
    }
   ],
   "source": [
    "string = \"NaveenaMaria\"\n",
    "char_list = [char for char in string]\n",
    "print(char_list)"
   ]
  },
  {
   "cell_type": "code",
   "execution_count": null,
   "id": "f8ac9cfb",
   "metadata": {},
   "outputs": [],
   "source": [
    "#41. Check if two strings are anagrams."
   ]
  },
  {
   "cell_type": "code",
   "execution_count": 1,
   "id": "e9b11c0d",
   "metadata": {},
   "outputs": [
    {
     "name": "stdout",
     "output_type": "stream",
     "text": [
      "They are anagrams\n"
     ]
    }
   ],
   "source": [
    "string1 = 'silent'\n",
    "string2 = 'listen'\n",
    "string1 = string1.replace(\" \",  \"\").lower()\n",
    "string2 = string2.replace(\" \",  \"\").lower()\n",
    "if len(string1) != len(string2):\n",
    "    print(\"They are not anagrams\")\n",
    "else:\n",
    "    if sorted(string1) == sorted(string2):\n",
    "        print(\"They are anagrams\")\n",
    "    else:\n",
    "        print(\"They are not anagrams\")"
   ]
  },
  {
   "cell_type": "code",
   "execution_count": null,
   "id": "7b4cdd82",
   "metadata": {},
   "outputs": [],
   "source": [
    "#42. Encode a string using a Caesar cipher."
   ]
  },
  {
   "cell_type": "code",
   "execution_count": 5,
   "id": "dd34dc33",
   "metadata": {},
   "outputs": [
    {
     "name": "stdout",
     "output_type": "stream",
     "text": [
      "Original text:-  kavin\n",
      "Encrypted text:-  ndylq\n"
     ]
    }
   ],
   "source": [
    "def ceaser_cipher(text, shift):\n",
    "    result = \"\"\n",
    "    for char in text:\n",
    "        if char.isalpha():\n",
    "            if char.islower():\n",
    "                shifted_char = chr(((ord(char) - ord('a')+shift) % 26) + ord('a'))\n",
    "            else:\n",
    "                 shifted_char = chr(((ord(char) - ord('A')+shift) % 26) + ord('A'))\n",
    "        else:\n",
    "            shifted_char = char\n",
    "        result += shifted_char\n",
    "    return result\n",
    "orig_txt = \"kavin\"\n",
    "shift = 3\n",
    "encrypt = ceaser_cipher(orig_txt, shift)\n",
    "print(f\"Original text:-  {orig_txt}\")\n",
    "print(f\"Encrypted text:-  {encrypt}\")"
   ]
  },
  {
   "cell_type": "code",
   "execution_count": null,
   "id": "b087c246",
   "metadata": {},
   "outputs": [],
   "source": [
    "#43. Decode a Caesar cipher encoded string."
   ]
  },
  {
   "cell_type": "code",
   "execution_count": 2,
   "id": "c81044e0",
   "metadata": {},
   "outputs": [
    {
     "name": "stdout",
     "output_type": "stream",
     "text": [
      "encrypted string:- ndylq\n",
      "decrypted string:- kavin\n"
     ]
    }
   ],
   "source": [
    "def caesar_decipher(encrypt, shift):\n",
    "    result = \"\"\n",
    "    for char in encrypt:\n",
    "        if char.isalpha():\n",
    "            if char.islower():\n",
    "                shifted_char = chr(((ord(char) - ord('a') - shift) % 26) + ord('a'))\n",
    "            else:\n",
    "                shifted_char = chr(((ord(char) - ord('a') - shift) % 26) + ord('a'))\n",
    "        else:\n",
    "            shifted_char = char\n",
    "        result += shifted_char\n",
    "    return result\n",
    "encrypt = \"ndylq\"\n",
    "shift = 3\n",
    "decrypt = caesar_decipher(encrypt, shift)\n",
    "print(f\"encrypted string:- {encrypt}\")\n",
    "print(f\"decrypted string:- {decrypt}\")"
   ]
  },
  {
   "cell_type": "code",
   "execution_count": null,
   "id": "9031837a",
   "metadata": {},
   "outputs": [],
   "source": [
    "#44. Find the most frequent word in a string."
   ]
  },
  {
   "cell_type": "code",
   "execution_count": 47,
   "id": "3f7098aa",
   "metadata": {},
   "outputs": [
    {
     "name": "stdout",
     "output_type": "stream",
     "text": [
      "the\n"
     ]
    }
   ],
   "source": [
    "string = 'This is the reality of the world'\n",
    "freq_word = {}\n",
    "words = string.lower().split()\n",
    "for word in words:\n",
    "    if word in freq_word:\n",
    "        freq_word[word] += 1\n",
    "    else:\n",
    "        freq_word[word] = 1\n",
    "most_freq_word = max(freq_word, key=freq_word.get)\n",
    "print(most_freq_word)"
   ]
  },
  {
   "cell_type": "code",
   "execution_count": null,
   "id": "9474486c",
   "metadata": {},
   "outputs": [],
   "source": [
    "#45. Find all unique words in a string."
   ]
  },
  {
   "cell_type": "code",
   "execution_count": 5,
   "id": "e5d8d3d4",
   "metadata": {},
   "outputs": [
    {
     "name": "stdout",
     "output_type": "stream",
     "text": [
      "huge\n",
      "has\n",
      "a\n",
      "largest\n",
      "states.\n",
      "population.\n",
      "country.\n",
      "is\n",
      "many\n",
      "india\n"
     ]
    }
   ],
   "source": [
    "string = \"India is a largest country. India has a huge population. India has many states.\"\n",
    "string = string.lower().split()\n",
    "unique_words = set()\n",
    "for char in string:\n",
    "    unique_words.add(char)\n",
    "unique_words_list = list(unique_words)\n",
    "for word in unique_words:\n",
    "    print(word)"
   ]
  },
  {
   "cell_type": "code",
   "execution_count": null,
   "id": "91e7fa9c",
   "metadata": {},
   "outputs": [],
   "source": [
    "#46. Count the number of syllables in a string."
   ]
  },
  {
   "cell_type": "code",
   "execution_count": 3,
   "id": "7d3321f0",
   "metadata": {},
   "outputs": [
    {
     "name": "stdout",
     "output_type": "stream",
     "text": [
      "2\n"
     ]
    }
   ],
   "source": [
    "def syllable_count(word):\n",
    "    word = word.lower()\n",
    "    count = 0\n",
    "    vowels = \"aeiouy\"\n",
    "    if word[0] in vowels:\n",
    "        count += 1\n",
    "    for index in range(1, len(word)):\n",
    "        if word[index] in vowels and word[index - 1] not in vowels:\n",
    "            count += 1\n",
    "    if word.endswith(\"e\"):\n",
    "        count -= 1\n",
    "    if count == 0:\n",
    "        count += 1\n",
    "    return count\n",
    "\n",
    "print(syllable_count('DAIRY'))"
   ]
  },
  {
   "cell_type": "code",
   "execution_count": null,
   "id": "a74539ef",
   "metadata": {},
   "outputs": [],
   "source": [
    "#47. Check if a string contains any special characters."
   ]
  },
  {
   "cell_type": "code",
   "execution_count": 3,
   "id": "0bebe7d7",
   "metadata": {},
   "outputs": [
    {
     "name": "stdout",
     "output_type": "stream",
     "text": [
      "String contains special characters\n"
     ]
    }
   ],
   "source": [
    "String = \"Kavin, tender coconut\"\n",
    "special_characters = \"@$%^&*('[,.?}]{')'/;\\|':!#'\"\n",
    "contains_special_characters = False\n",
    "for char in String:\n",
    "    if char in special_characters:\n",
    "        contains_special_characters = True\n",
    "        break\n",
    "if contains_special_characters:\n",
    "    print(\"String contains special characters\")\n",
    "else:\n",
    "    print(\"String does not contains special characters\")"
   ]
  },
  {
   "cell_type": "code",
   "execution_count": null,
   "id": "09c8345d",
   "metadata": {},
   "outputs": [],
   "source": [
    "#48. Remove the nth word from a string."
   ]
  },
  {
   "cell_type": "code",
   "execution_count": 5,
   "id": "67d8526c",
   "metadata": {},
   "outputs": [
    {
     "name": "stdout",
     "output_type": "stream",
     "text": [
      "We enjoyed the last sunday\n"
     ]
    }
   ],
   "source": [
    "string = \"We enjoyed the movie last sunday\"\n",
    "string = string.split()\n",
    "n = 3\n",
    "if 0 <= n < len(string):\n",
    "    del string[n]\n",
    "    updated_string = ' '.join(string)\n",
    "print(updated_string)"
   ]
  },
  {
   "cell_type": "code",
   "execution_count": null,
   "id": "13d28900",
   "metadata": {},
   "outputs": [],
   "source": [
    "#49. Insert a word at the nth position in a string."
   ]
  },
  {
   "cell_type": "code",
   "execution_count": 7,
   "id": "d527c5f7",
   "metadata": {},
   "outputs": [
    {
     "name": "stdout",
     "output_type": "stream",
     "text": [
      "We enjoyed the movie last sunday\n"
     ]
    }
   ],
   "source": [
    "string = \"We enjoyed the last sunday\"\n",
    "insert_word = 'movie'\n",
    "string = string.split()\n",
    "n = 3\n",
    "if 0 <= n < len(string):\n",
    "    string.insert(n, insert_word)\n",
    "    updated_string = ' '.join(string)\n",
    "print(updated_string)"
   ]
  },
  {
   "cell_type": "code",
   "execution_count": null,
   "id": "ed3b36ff",
   "metadata": {},
   "outputs": [],
   "source": [
    "#50. Convert a CSV string to a list of lists."
   ]
  },
  {
   "cell_type": "code",
   "execution_count": 11,
   "id": "89acf739",
   "metadata": {},
   "outputs": [
    {
     "name": "stdout",
     "output_type": "stream",
     "text": [
      "['Name', 'Age', 'Location']\n",
      "['John', '25', 'New York']\n",
      "['Alice', '30', 'Los Angeles']\n",
      "['Bob', '22', 'Chicago']\n"
     ]
    }
   ],
   "source": [
    "csv_string = \"Name,Age,Location\\nJohn,25,New York\\nAlice,30,Los Angeles\\nBob,22,Chicago\"\n",
    "lines = csv_string.split('\\n')\n",
    "csv_list_of_lists = []\n",
    "for line in lines:\n",
    "    csv_list_of_lists.append(line.split(','))\n",
    "for row in csv_list_of_lists:\n",
    "    print(row)"
   ]
  },
  {
   "cell_type": "markdown",
   "id": "9b6640d1",
   "metadata": {},
   "source": [
    "# List Based Practice Problem"
   ]
  },
  {
   "cell_type": "code",
   "execution_count": null,
   "id": "ddb414ee",
   "metadata": {},
   "outputs": [],
   "source": [
    "#1. Create a list with integers from 1 to 10."
   ]
  },
  {
   "cell_type": "code",
   "execution_count": 20,
   "id": "3b18f02a",
   "metadata": {},
   "outputs": [
    {
     "name": "stdout",
     "output_type": "stream",
     "text": [
      "[1, 2, 3, 4, 5, 6, 7, 8, 9, 10]\n"
     ]
    }
   ],
   "source": [
    "list1 = [i for i in range(1,11)]\n",
    "print(list1)"
   ]
  },
  {
   "cell_type": "code",
   "execution_count": null,
   "id": "b6a4d4c1",
   "metadata": {},
   "outputs": [],
   "source": [
    "#2. Find the length of a list without using the `len()` function."
   ]
  },
  {
   "cell_type": "code",
   "execution_count": 21,
   "id": "cedd3fb3",
   "metadata": {},
   "outputs": [
    {
     "name": "stdout",
     "output_type": "stream",
     "text": [
      "5\n"
     ]
    }
   ],
   "source": [
    "list2 = [34,67,43,98,28]\n",
    "length = 0\n",
    "for i in list2:\n",
    "    length += 1\n",
    "print(length)"
   ]
  },
  {
   "cell_type": "code",
   "execution_count": null,
   "id": "5683fb9b",
   "metadata": {},
   "outputs": [],
   "source": [
    "#3. Append an element to the end of a list."
   ]
  },
  {
   "cell_type": "code",
   "execution_count": 22,
   "id": "f480bbd7",
   "metadata": {},
   "outputs": [
    {
     "name": "stdout",
     "output_type": "stream",
     "text": [
      "[1, 2, 3, 4, 5, 6, 7, 8, 9]\n"
     ]
    }
   ],
   "source": [
    "list3 = [1,2,3,4,5,6,7,8]\n",
    "list3.append(9)\n",
    "print(list3)"
   ]
  },
  {
   "cell_type": "code",
   "execution_count": null,
   "id": "890a4f59",
   "metadata": {},
   "outputs": [],
   "source": [
    "#4. Insert an element at a specific index in a list."
   ]
  },
  {
   "cell_type": "code",
   "execution_count": 23,
   "id": "4a72169f",
   "metadata": {},
   "outputs": [
    {
     "name": "stdout",
     "output_type": "stream",
     "text": [
      "[1, 2, 3, 4]\n"
     ]
    }
   ],
   "source": [
    "list4 = [1,2,4]\n",
    "list4.insert(2,3)\n",
    "print(list4)"
   ]
  },
  {
   "cell_type": "code",
   "execution_count": null,
   "id": "856af98d",
   "metadata": {},
   "outputs": [],
   "source": [
    "#5. Remove an element from a list by its value."
   ]
  },
  {
   "cell_type": "code",
   "execution_count": 24,
   "id": "1f2e9e59",
   "metadata": {},
   "outputs": [
    {
     "name": "stdout",
     "output_type": "stream",
     "text": [
      "[10, 30, 40]\n"
     ]
    }
   ],
   "source": [
    "list5 = [10,20,30,40]\n",
    "list5.remove(20)\n",
    "print(list5)"
   ]
  },
  {
   "cell_type": "code",
   "execution_count": null,
   "id": "b55714cd",
   "metadata": {},
   "outputs": [],
   "source": [
    "#6. Remove an element from a list by its index."
   ]
  },
  {
   "cell_type": "code",
   "execution_count": 8,
   "id": "b149c9af",
   "metadata": {},
   "outputs": [
    {
     "name": "stdout",
     "output_type": "stream",
     "text": [
      "[1, 3, 4, 5]\n"
     ]
    }
   ],
   "source": [
    "list6 = [1,2,3,4,5]\n",
    "list6.pop(1)\n",
    "print(list6)"
   ]
  },
  {
   "cell_type": "code",
   "execution_count": null,
   "id": "c25d03c5",
   "metadata": {},
   "outputs": [],
   "source": [
    "#7. Check if an element exists in a list."
   ]
  },
  {
   "cell_type": "code",
   "execution_count": 30,
   "id": "2f4dfc90",
   "metadata": {},
   "outputs": [
    {
     "name": "stdout",
     "output_type": "stream",
     "text": [
      "Zoho exists in the list\n"
     ]
    }
   ],
   "source": [
    "list7 = [\"Zoho\", \"Tcs\", \"Wipro\", \"Infosys\"]\n",
    "if \"Zoho\" in list7:\n",
    "    print(\"Zoho exists in the list\")\n",
    "else:\n",
    "    print(\"Not exist\")"
   ]
  },
  {
   "cell_type": "code",
   "execution_count": null,
   "id": "6e5978c3",
   "metadata": {},
   "outputs": [],
   "source": [
    "#8. Find the index of the first occurrence of an element in a list."
   ]
  },
  {
   "cell_type": "code",
   "execution_count": 31,
   "id": "edc9dbe7",
   "metadata": {},
   "outputs": [
    {
     "name": "stdout",
     "output_type": "stream",
     "text": [
      "2\n"
     ]
    }
   ],
   "source": [
    "list8 = [1,2,3,4,3,5,3]\n",
    "element_to_find = 3\n",
    "index = None\n",
    "for i in range(len(list8)):\n",
    "    if list8[i] == element_to_find:\n",
    "        index = i\n",
    "        break\n",
    "print(index)"
   ]
  },
  {
   "cell_type": "code",
   "execution_count": null,
   "id": "9ea7d0f7",
   "metadata": {},
   "outputs": [],
   "source": [
    "#9. Count the occurrences of an element in a list."
   ]
  },
  {
   "cell_type": "code",
   "execution_count": 32,
   "id": "7b1ba0c4",
   "metadata": {},
   "outputs": [
    {
     "name": "stdout",
     "output_type": "stream",
     "text": [
      "3\n"
     ]
    }
   ],
   "source": [
    "list8 = [1,2,3,4,3,5,3]\n",
    "element_to_find = 3\n",
    "count = 0\n",
    "for i in range(len(list8)):\n",
    "    if list8[i] == element_to_find:\n",
    "        count += 1\n",
    "print(count)"
   ]
  },
  {
   "cell_type": "code",
   "execution_count": null,
   "id": "52149b45",
   "metadata": {},
   "outputs": [],
   "source": [
    "#10. Reverse the order of elements in a list."
   ]
  },
  {
   "cell_type": "code",
   "execution_count": 33,
   "id": "c43da4b2",
   "metadata": {},
   "outputs": [
    {
     "name": "stdout",
     "output_type": "stream",
     "text": [
      "[3, 5, 3, 4, 3, 2, 1]\n"
     ]
    }
   ],
   "source": [
    "list8 = [1,2,3,4,3,5,3]\n",
    "rev_list = list8[::-1]\n",
    "print(rev_list)"
   ]
  },
  {
   "cell_type": "code",
   "execution_count": null,
   "id": "42836d3c",
   "metadata": {},
   "outputs": [],
   "source": [
    "#11. Sort a list in ascending order."
   ]
  },
  {
   "cell_type": "code",
   "execution_count": 37,
   "id": "443a7b18",
   "metadata": {},
   "outputs": [
    {
     "name": "stdout",
     "output_type": "stream",
     "text": [
      "[6, 10, 23, 47, 89, 100]\n"
     ]
    }
   ],
   "source": [
    "list5 = [100,89,10,47,6,23]\n",
    "list5.sort()\n",
    "print(list5)"
   ]
  },
  {
   "cell_type": "code",
   "execution_count": null,
   "id": "0303ec73",
   "metadata": {},
   "outputs": [],
   "source": [
    "#12. Sort a list in descending order."
   ]
  },
  {
   "cell_type": "code",
   "execution_count": 39,
   "id": "baadfba6",
   "metadata": {},
   "outputs": [
    {
     "name": "stdout",
     "output_type": "stream",
     "text": [
      "[100, 89, 47, 23, 10, 6]\n"
     ]
    }
   ],
   "source": [
    "list5 = [100,89,10,47,6,23]\n",
    "list5.sort(reverse = True)\n",
    "print(list5)"
   ]
  },
  {
   "cell_type": "code",
   "execution_count": null,
   "id": "dcba0cfe",
   "metadata": {},
   "outputs": [],
   "source": [
    "#13. Create a list of even numbers from 1 to 20."
   ]
  },
  {
   "cell_type": "code",
   "execution_count": 44,
   "id": "70d58b22",
   "metadata": {},
   "outputs": [
    {
     "name": "stdout",
     "output_type": "stream",
     "text": [
      "[2, 4, 6, 8, 10, 12, 14, 16, 18, 20]\n"
     ]
    }
   ],
   "source": [
    "list_even = [i for i in range(1,21) if i % 2 == 0]\n",
    "print(list_even)"
   ]
  },
  {
   "cell_type": "code",
   "execution_count": 45,
   "id": "7f44c6bc",
   "metadata": {},
   "outputs": [],
   "source": [
    "#14. Create a list of odd numbers from 1 to 20."
   ]
  },
  {
   "cell_type": "code",
   "execution_count": 46,
   "id": "daca3567",
   "metadata": {},
   "outputs": [
    {
     "name": "stdout",
     "output_type": "stream",
     "text": [
      "[1, 3, 5, 7, 9, 11, 13, 15, 17, 19]\n"
     ]
    }
   ],
   "source": [
    "list_odd = [i for i in range(1,21) if i % 2 != 0]\n",
    "print(list_odd)"
   ]
  },
  {
   "cell_type": "code",
   "execution_count": null,
   "id": "e08a8920",
   "metadata": {},
   "outputs": [],
   "source": [
    "#15. Find the sum of all elements in a list."
   ]
  },
  {
   "cell_type": "code",
   "execution_count": 47,
   "id": "4f6c92f5",
   "metadata": {},
   "outputs": [
    {
     "name": "stdout",
     "output_type": "stream",
     "text": [
      "460\n"
     ]
    }
   ],
   "source": [
    "list10 = [1,11,21,31,41,51,61,71,81,91]\n",
    "list10 = sum(list10)\n",
    "print(list10)"
   ]
  },
  {
   "cell_type": "code",
   "execution_count": null,
   "id": "f775f5d3",
   "metadata": {},
   "outputs": [],
   "source": [
    "#16. Find the maximum value in a list."
   ]
  },
  {
   "cell_type": "code",
   "execution_count": 48,
   "id": "6c4c197e",
   "metadata": {},
   "outputs": [
    {
     "name": "stdout",
     "output_type": "stream",
     "text": [
      "91\n"
     ]
    }
   ],
   "source": [
    "list10 = [1,11,21,31,41,51,61,71,81,91]\n",
    "print(max(list10))"
   ]
  },
  {
   "cell_type": "code",
   "execution_count": null,
   "id": "ac1e2054",
   "metadata": {},
   "outputs": [],
   "source": [
    "#17. Find the minimum value in a list."
   ]
  },
  {
   "cell_type": "code",
   "execution_count": 49,
   "id": "35aa6ffc",
   "metadata": {},
   "outputs": [
    {
     "name": "stdout",
     "output_type": "stream",
     "text": [
      "1\n"
     ]
    }
   ],
   "source": [
    "list10 = [1,11,21,31,41,51,61,71,81,91]\n",
    "print(min(list10))"
   ]
  },
  {
   "cell_type": "code",
   "execution_count": null,
   "id": "b160d19e",
   "metadata": {},
   "outputs": [],
   "source": [
    "#18. Create a list of squares of numbers from 1 to 10."
   ]
  },
  {
   "cell_type": "code",
   "execution_count": 51,
   "id": "9c72b17b",
   "metadata": {},
   "outputs": [
    {
     "name": "stdout",
     "output_type": "stream",
     "text": [
      "[1, 4, 9, 16, 25, 36, 49, 64, 81, 100]\n"
     ]
    }
   ],
   "source": [
    "list_square = [i**2 for i in range(1,11)]\n",
    "print(list_square)"
   ]
  },
  {
   "cell_type": "code",
   "execution_count": null,
   "id": "bf723293",
   "metadata": {},
   "outputs": [],
   "source": [
    "#19. Create a list of random numbers."
   ]
  },
  {
   "cell_type": "code",
   "execution_count": 53,
   "id": "0c4e033a",
   "metadata": {},
   "outputs": [
    {
     "name": "stdout",
     "output_type": "stream",
     "text": [
      "[23, 98, 19, 20, 88, 26, 97, 5, 66, 58]\n"
     ]
    }
   ],
   "source": [
    "import random\n",
    "random_list = [random.randint(1,100) for i in range(10)]\n",
    "print(random_list)"
   ]
  },
  {
   "cell_type": "code",
   "execution_count": 54,
   "id": "0c4e4d55",
   "metadata": {},
   "outputs": [],
   "source": [
    "#20. Remove duplicates from a list."
   ]
  },
  {
   "cell_type": "code",
   "execution_count": 55,
   "id": "ab3a1b5a",
   "metadata": {},
   "outputs": [
    {
     "name": "stdout",
     "output_type": "stream",
     "text": [
      "[1, 2, 3, 4, 5]\n"
     ]
    }
   ],
   "source": [
    "duplicate_list = [1,2,3,4,3,5,3]\n",
    "without_duplicate = list(set(duplicate_list))\n",
    "print(without_duplicate)"
   ]
  },
  {
   "cell_type": "code",
   "execution_count": null,
   "id": "10879399",
   "metadata": {},
   "outputs": [],
   "source": [
    "#21. Find the common elements between two lists."
   ]
  },
  {
   "cell_type": "code",
   "execution_count": 57,
   "id": "af84fbac",
   "metadata": {},
   "outputs": [
    {
     "name": "stdout",
     "output_type": "stream",
     "text": [
      "[1, 3, 5]\n"
     ]
    }
   ],
   "source": [
    "listA = [1,2,3,4,5]\n",
    "listB = [3,1,6,7,5]\n",
    "common_elements = list(set(listA).intersection(listB))\n",
    "print(common_elements)"
   ]
  },
  {
   "cell_type": "code",
   "execution_count": null,
   "id": "9479e52f",
   "metadata": {},
   "outputs": [],
   "source": [
    "#22. Find the difference between two lists."
   ]
  },
  {
   "cell_type": "code",
   "execution_count": 68,
   "id": "c629cf1f",
   "metadata": {},
   "outputs": [
    {
     "name": "stdout",
     "output_type": "stream",
     "text": [
      "[2, 4]\n",
      "[6, 7]\n"
     ]
    }
   ],
   "source": [
    "listA = [1,2,3,4,5]\n",
    "listB = [3,1,6,7,5]\n",
    "list_difference1 = list(set(listA).difference(listB))  \n",
    "list_difference2 = list(set(listB).difference(listA))\n",
    "print(list_difference1)\n",
    "print(list_difference2)"
   ]
  },
  {
   "cell_type": "code",
   "execution_count": null,
   "id": "078f0254",
   "metadata": {},
   "outputs": [],
   "source": [
    "#23. Merge two lists."
   ]
  },
  {
   "cell_type": "code",
   "execution_count": 70,
   "id": "f1bbd424",
   "metadata": {},
   "outputs": [
    {
     "name": "stdout",
     "output_type": "stream",
     "text": [
      "[1, 2, 3, 4, 5, 6]\n"
     ]
    }
   ],
   "source": [
    "list1 = [1,2,3]\n",
    "list2 = [4,5,6]\n",
    "list3 = list1 + list2\n",
    "print(list3)"
   ]
  },
  {
   "cell_type": "code",
   "execution_count": null,
   "id": "283dad78",
   "metadata": {},
   "outputs": [],
   "source": [
    "#24. Multiply all elements in a list by 2."
   ]
  },
  {
   "cell_type": "code",
   "execution_count": 75,
   "id": "0846639b",
   "metadata": {},
   "outputs": [
    {
     "name": "stdout",
     "output_type": "stream",
     "text": [
      "[2, 4, 6, 8, 10]\n"
     ]
    }
   ],
   "source": [
    "list1 = [1,2,3,4,5]\n",
    "doubled_list = [x*2 for x in list1]\n",
    "print(doubled_list)"
   ]
  },
  {
   "cell_type": "code",
   "execution_count": null,
   "id": "be420799",
   "metadata": {},
   "outputs": [],
   "source": [
    "#25. Filter out all even numbers from a list."
   ]
  },
  {
   "cell_type": "code",
   "execution_count": 78,
   "id": "ccabe803",
   "metadata": {},
   "outputs": [
    {
     "name": "stdout",
     "output_type": "stream",
     "text": [
      "[11, 13, 15, 17, 19]\n"
     ]
    }
   ],
   "source": [
    "list1 = [11,12,13,15,16,17,18,19,20]\n",
    "filtered_list = [x for x in list1 if x % 2 != 0]\n",
    "print(filtered_list)"
   ]
  },
  {
   "cell_type": "code",
   "execution_count": null,
   "id": "4420d96c",
   "metadata": {},
   "outputs": [],
   "source": [
    "#26. Convert a list of strings to a list of integers."
   ]
  },
  {
   "cell_type": "code",
   "execution_count": 79,
   "id": "eec1b2ca",
   "metadata": {},
   "outputs": [
    {
     "name": "stdout",
     "output_type": "stream",
     "text": [
      "[1, 2, 3]\n"
     ]
    }
   ],
   "source": [
    "list_str = ['1','2','3']\n",
    "list_int = [int(x) for x in list_str]\n",
    "print(list_int)"
   ]
  },
  {
   "cell_type": "code",
   "execution_count": null,
   "id": "ed75cdb8",
   "metadata": {},
   "outputs": [],
   "source": [
    "#27. Convert a list of integers to a list of strings."
   ]
  },
  {
   "cell_type": "code",
   "execution_count": 81,
   "id": "ee1d7d21",
   "metadata": {},
   "outputs": [
    {
     "name": "stdout",
     "output_type": "stream",
     "text": [
      "['1', '2', '3']\n"
     ]
    }
   ],
   "source": [
    "list_int = [1,2,3]\n",
    "list_str = [str(x) for x in list_int]\n",
    "print(list_str)"
   ]
  },
  {
   "cell_type": "code",
   "execution_count": null,
   "id": "c20443a6",
   "metadata": {},
   "outputs": [],
   "source": [
    "#28. Flatten a nested list."
   ]
  },
  {
   "cell_type": "code",
   "execution_count": 3,
   "id": "12d2754a",
   "metadata": {},
   "outputs": [
    {
     "name": "stdout",
     "output_type": "stream",
     "text": [
      "[1, 2, 3, 4, 5, 6, 7, 8]\n"
     ]
    }
   ],
   "source": [
    "def flatten_list(nested_list):\n",
    "    flat_list = []\n",
    "    for item in nested_list:\n",
    "        if isinstance(item, list):\n",
    "            flat_list.extend(flatten_list(item))\n",
    "        else:\n",
    "            flat_list.append(item)\n",
    "    return flat_list\n",
    "\n",
    "nested_list = [1, [2, 3, [4, 5]], 6, [7, 8]]\n",
    "flattened = flatten_list(nested_list)\n",
    "print(flattened)"
   ]
  },
  {
   "cell_type": "code",
   "execution_count": null,
   "id": "6fcd7678",
   "metadata": {},
   "outputs": [],
   "source": [
    "#29. Create a list of the first 10 Fibonacci numbers."
   ]
  },
  {
   "cell_type": "code",
   "execution_count": 2,
   "id": "e2358213",
   "metadata": {},
   "outputs": [
    {
     "name": "stdout",
     "output_type": "stream",
     "text": [
      "[0, 1, 1, 2, 3, 5, 8, 13, 21, 34]\n"
     ]
    }
   ],
   "source": [
    "fibonacci_list = [0,1]\n",
    "for i in range(2,10):\n",
    "    next_fibonacci = fibonacci_list[i-1] + fibonacci_list[i-2]\n",
    "    fibonacci_list.append(next_fibonacci)\n",
    "print(fibonacci_list)"
   ]
  },
  {
   "cell_type": "code",
   "execution_count": null,
   "id": "5b8aefa2",
   "metadata": {},
   "outputs": [],
   "source": [
    "#30. Check if a list is sorted."
   ]
  },
  {
   "cell_type": "code",
   "execution_count": 4,
   "id": "ffb4c6ac",
   "metadata": {},
   "outputs": [
    {
     "name": "stdout",
     "output_type": "stream",
     "text": [
      "The list is sorted\n"
     ]
    }
   ],
   "source": [
    "a = [1,2,3,4,5]\n",
    "is_sorted = True\n",
    "for i in range(len(a)-1):\n",
    "    if a[i] > a[i+1]:\n",
    "        is_sorted = False\n",
    "        break\n",
    "else:\n",
    "    print(\"The list is sorted\")"
   ]
  },
  {
   "cell_type": "code",
   "execution_count": null,
   "id": "96e0dc95",
   "metadata": {},
   "outputs": [],
   "source": [
    "#31. Rotate a list to the left by `n` positions."
   ]
  },
  {
   "cell_type": "code",
   "execution_count": 6,
   "id": "002f7f63",
   "metadata": {},
   "outputs": [
    {
     "name": "stdout",
     "output_type": "stream",
     "text": [
      "[3, 4, 5, 1, 2]\n"
     ]
    }
   ],
   "source": [
    "listA = [1,2,3,4,5]\n",
    "n = 2\n",
    "rotated_list = listA[n:] + listA[:n]\n",
    "print(rotated_list)"
   ]
  },
  {
   "cell_type": "code",
   "execution_count": null,
   "id": "b1ad8e00",
   "metadata": {},
   "outputs": [],
   "source": [
    "#32. Rotate a list to the right by `n` positions."
   ]
  },
  {
   "cell_type": "code",
   "execution_count": 7,
   "id": "3ad8a647",
   "metadata": {},
   "outputs": [
    {
     "name": "stdout",
     "output_type": "stream",
     "text": [
      "[4, 5, 1, 2, 3]\n"
     ]
    }
   ],
   "source": [
    "listA = [1,2,3,4,5]\n",
    "n = 2 \n",
    "rotation_index = len(listA) - n\n",
    "rotated_list = listA[rotation_index:] + listA[:rotation_index]\n",
    "print(rotated_list)"
   ]
  },
  {
   "cell_type": "code",
   "execution_count": null,
   "id": "cd1b3a5d",
   "metadata": {},
   "outputs": [],
   "source": [
    "#33. Create a list of prime numbers up to 50."
   ]
  },
  {
   "cell_type": "code",
   "execution_count": 10,
   "id": "1fe1d5a2",
   "metadata": {},
   "outputs": [
    {
     "name": "stdout",
     "output_type": "stream",
     "text": [
      "[2, 3, 5, 7, 11, 13, 17, 19, 23, 29, 31, 37, 41, 43, 47]\n"
     ]
    }
   ],
   "source": [
    "prime_list = []\n",
    "for num in range(2,51):\n",
    "    is_prime = True\n",
    "    for i in range(2,num):\n",
    "        if num % i == 0:\n",
    "            is_prime = False\n",
    "            break\n",
    "    if is_prime:\n",
    "        prime_list.append(num)\n",
    "print(prime_list)"
   ]
  },
  {
   "cell_type": "code",
   "execution_count": null,
   "id": "972eea7d",
   "metadata": {},
   "outputs": [],
   "source": [
    "#34. Split a list into chunks of size `n`."
   ]
  },
  {
   "cell_type": "code",
   "execution_count": 12,
   "id": "4775acbe",
   "metadata": {},
   "outputs": [
    {
     "name": "stdout",
     "output_type": "stream",
     "text": [
      "[[1, 2, 3], [4, 5, 6], [7, 8, 9]]\n"
     ]
    }
   ],
   "source": [
    "my_list = [1,2,3,4,5,6,7,8,9]\n",
    "n = 3\n",
    "chunks = []\n",
    "for i in range(0, len(my_list), n):\n",
    "    chunk = my_list[i:i + n]\n",
    "    chunks.append(chunk)\n",
    "print(chunks)"
   ]
  },
  {
   "cell_type": "code",
   "execution_count": null,
   "id": "8f13ff10",
   "metadata": {},
   "outputs": [],
   "source": [
    "#35. Find the second largest number in a list."
   ]
  },
  {
   "cell_type": "code",
   "execution_count": 15,
   "id": "bf1bed88",
   "metadata": {},
   "outputs": [
    {
     "name": "stdout",
     "output_type": "stream",
     "text": [
      "289\n"
     ]
    }
   ],
   "source": [
    "my_list = [88,194,38,289,171,791]\n",
    "my_list.sort()\n",
    "second_largest = my_list[-2]\n",
    "print(second_largest)"
   ]
  },
  {
   "cell_type": "code",
   "execution_count": null,
   "id": "2ca070f4",
   "metadata": {},
   "outputs": [],
   "source": [
    "#36. Replace every element in a list with its square."
   ]
  },
  {
   "cell_type": "code",
   "execution_count": 16,
   "id": "df237b7e",
   "metadata": {},
   "outputs": [
    {
     "name": "stdout",
     "output_type": "stream",
     "text": [
      "[1, 4, 9, 16, 25]\n"
     ]
    }
   ],
   "source": [
    "mylist = [1,2,3,4,5]\n",
    "square_list = [x**2 for x in mylist]\n",
    "print(square_list)"
   ]
  },
  {
   "cell_type": "code",
   "execution_count": null,
   "id": "df9700ca",
   "metadata": {},
   "outputs": [],
   "source": [
    "#37. Convert a list to a dictionary where list elements become keys and their indices become values."
   ]
  },
  {
   "cell_type": "code",
   "execution_count": 17,
   "id": "fcbfae57",
   "metadata": {},
   "outputs": [
    {
     "name": "stdout",
     "output_type": "stream",
     "text": [
      "{0: 'red', 1: 'blue', 2: 'yellow', 3: 'black'}\n"
     ]
    }
   ],
   "source": [
    "color = ['red','blue','yellow','black']\n",
    "color_dict = dict(enumerate(color))\n",
    "print(color_dict)"
   ]
  },
  {
   "cell_type": "code",
   "execution_count": null,
   "id": "4515caf7",
   "metadata": {},
   "outputs": [],
   "source": [
    "#38. Shuffle the elements of a list randomly."
   ]
  },
  {
   "cell_type": "code",
   "execution_count": 18,
   "id": "60e0a1a6",
   "metadata": {},
   "outputs": [
    {
     "name": "stdout",
     "output_type": "stream",
     "text": [
      "[7, 9, 6, 10, 8]\n"
     ]
    }
   ],
   "source": [
    "import random\n",
    "mylist = [6,7,8,9,10]\n",
    "random.shuffle(mylist)\n",
    "print(mylist)"
   ]
  },
  {
   "cell_type": "code",
   "execution_count": null,
   "id": "b8c06df9",
   "metadata": {},
   "outputs": [],
   "source": [
    "#39. Create a list of the first 10 factorial numbers."
   ]
  },
  {
   "cell_type": "code",
   "execution_count": 21,
   "id": "17cd3f24",
   "metadata": {},
   "outputs": [
    {
     "name": "stdout",
     "output_type": "stream",
     "text": [
      "[1, 1, 2, 12, 288, 34560, 24883200, 125411328000, 5056584744960000, 1834933472251084800000]\n"
     ]
    }
   ],
   "source": [
    "factorial_list = [1]\n",
    "factorial = 1\n",
    "for num in range(1,10):\n",
    "    for i in range(1, num+1):\n",
    "        factorial = factorial * i\n",
    "    factorial_list.append(factorial)\n",
    "print(factorial_list)"
   ]
  },
  {
   "cell_type": "code",
   "execution_count": null,
   "id": "852d6f7c",
   "metadata": {},
   "outputs": [],
   "source": [
    "#40. Check if two lists have at least one element in common."
   ]
  },
  {
   "cell_type": "code",
   "execution_count": 22,
   "id": "06b4c0c7",
   "metadata": {},
   "outputs": [
    {
     "name": "stdout",
     "output_type": "stream",
     "text": [
      "They atleast have one element in common\n"
     ]
    }
   ],
   "source": [
    "list1 = [9,10,11,12,13]\n",
    "list2 = [14,7,12,1,6]\n",
    "if set(list1).intersection(list2):\n",
    "    print(\"They atleast have one element in common\")\n",
    "else:\n",
    "    print(\"They dont even have one element in common\")"
   ]
  },
  {
   "cell_type": "code",
   "execution_count": null,
   "id": "a7b888e8",
   "metadata": {},
   "outputs": [],
   "source": [
    "#41. Remove all elements from a list."
   ]
  },
  {
   "cell_type": "code",
   "execution_count": 23,
   "id": "60c0fd3a",
   "metadata": {},
   "outputs": [
    {
     "name": "stdout",
     "output_type": "stream",
     "text": [
      "[]\n"
     ]
    }
   ],
   "source": [
    "dummy_list = ['cricket','football','handball']\n",
    "dummy_list.clear()\n",
    "print(dummy_list)"
   ]
  },
  {
   "cell_type": "code",
   "execution_count": null,
   "id": "e357e36c",
   "metadata": {},
   "outputs": [],
   "source": [
    "#42. Replace negative numbers in a list with 0."
   ]
  },
  {
   "cell_type": "code",
   "execution_count": 5,
   "id": "f335f877",
   "metadata": {},
   "outputs": [
    {
     "name": "stdout",
     "output_type": "stream",
     "text": [
      "[1, 0, 3, 0, 5, 0]\n"
     ]
    }
   ],
   "source": [
    "mylist = [1,-2,3,-4,5,-6]\n",
    "for i in range(len(mylist)):\n",
    "    if mylist[i] < 0:\n",
    "        mylist[i] = 0\n",
    "print(mylist)"
   ]
  },
  {
   "cell_type": "code",
   "execution_count": null,
   "id": "f19abfa9",
   "metadata": {},
   "outputs": [],
   "source": [
    "#43. Convert a string into a list of words."
   ]
  },
  {
   "cell_type": "code",
   "execution_count": 8,
   "id": "752365d3",
   "metadata": {},
   "outputs": [
    {
     "name": "stdout",
     "output_type": "stream",
     "text": [
      "['Have', 'a', 'nice', 'day']\n"
     ]
    }
   ],
   "source": [
    "string = \"Have a nice day\"\n",
    "list_of_words = string.split() \n",
    "print(list_of_words)"
   ]
  },
  {
   "cell_type": "code",
   "execution_count": null,
   "id": "f7dfa68b",
   "metadata": {},
   "outputs": [],
   "source": [
    "#44. Convert a list of words into a string."
   ]
  },
  {
   "cell_type": "code",
   "execution_count": 10,
   "id": "5bc3dcc5",
   "metadata": {},
   "outputs": [
    {
     "name": "stdout",
     "output_type": "stream",
     "text": [
      "Have a nice day\n"
     ]
    }
   ],
   "source": [
    "list_of_words = ['Have', 'a', 'nice', 'day']\n",
    "string = ' '.join(list_of_words)\n",
    "print(string)"
   ]
  },
  {
   "cell_type": "code",
   "execution_count": null,
   "id": "a0599b30",
   "metadata": {},
   "outputs": [],
   "source": [
    "#45. Create a list of the first `n` powers of 2."
   ]
  },
  {
   "cell_type": "code",
   "execution_count": 12,
   "id": "c7b1ad21",
   "metadata": {},
   "outputs": [
    {
     "name": "stdout",
     "output_type": "stream",
     "text": [
      "[1, 2, 4, 8, 16]\n"
     ]
    }
   ],
   "source": [
    "n = 5\n",
    "powers = [2**x for x in range(5)]\n",
    "print(powers)"
   ]
  },
  {
   "cell_type": "code",
   "execution_count": null,
   "id": "efc5ddcb",
   "metadata": {},
   "outputs": [],
   "source": [
    "#46. Find the longest string in a list of strings."
   ]
  },
  {
   "cell_type": "code",
   "execution_count": 13,
   "id": "5e1b85fa",
   "metadata": {},
   "outputs": [
    {
     "name": "stdout",
     "output_type": "stream",
     "text": [
      "nissan\n"
     ]
    }
   ],
   "source": [
    "list_of_string = ['volvo','bmw','nissan']\n",
    "longest_string = \" \"\n",
    "for string in list_of_string:\n",
    "    if len(string) > len(longest_string):\n",
    "        longest_string = string\n",
    "print(longest_string)"
   ]
  },
  {
   "cell_type": "code",
   "execution_count": null,
   "id": "73fa8f47",
   "metadata": {},
   "outputs": [],
   "source": [
    "#47. Find the shortest string in a list of strings."
   ]
  },
  {
   "cell_type": "code",
   "execution_count": 2,
   "id": "69e19034",
   "metadata": {},
   "outputs": [
    {
     "name": "stdout",
     "output_type": "stream",
     "text": [
      "bmw\n"
     ]
    }
   ],
   "source": [
    "list_of_string = ['volvo','bmw','nissan']\n",
    "shortest_string = list_of_string[0]\n",
    "for string in list_of_string:\n",
    "    if len(string) < len(shortest_string):\n",
    "        shortest_string = string\n",
    "print(shortest_string)    "
   ]
  },
  {
   "cell_type": "code",
   "execution_count": null,
   "id": "416ead77",
   "metadata": {},
   "outputs": [],
   "source": [
    "#48. Create a list of the first `n` triangular numbers."
   ]
  },
  {
   "cell_type": "code",
   "execution_count": 11,
   "id": "6cf85a7e",
   "metadata": {},
   "outputs": [
    {
     "name": "stdout",
     "output_type": "stream",
     "text": [
      "[1, 3, 6, 10, 15, 21, 28, 36, 45, 55]\n"
     ]
    }
   ],
   "source": [
    "def tri_num(n):\n",
    "    triangle_num = []\n",
    "    sum = 0\n",
    "    for i in range(1, n+1):\n",
    "        sum = sum + i\n",
    "        triangle_num.append(sum)\n",
    "    return triangle_num\n",
    "n = 10 \n",
    "tri = tri_num(n)\n",
    "print(tri)       "
   ]
  },
  {
   "cell_type": "code",
   "execution_count": null,
   "id": "9d002c3b",
   "metadata": {},
   "outputs": [],
   "source": [
    "#49. Check if a list contains another list as a subsequence."
   ]
  },
  {
   "cell_type": "code",
   "execution_count": 6,
   "id": "e74615fe",
   "metadata": {},
   "outputs": [
    {
     "name": "stdout",
     "output_type": "stream",
     "text": [
      "The sub_list is a subsequence of the main_list.\n"
     ]
    }
   ],
   "source": [
    "def is_subsequence(sublist, mainlist):\n",
    "    sub_len = len(sublist)\n",
    "    main_len = len(mainlist)\n",
    "    i, j = 0, 0\n",
    "\n",
    "    while i < sub_len and j < main_len:\n",
    "        if sublist[i] == mainlist[j]:\n",
    "            i += 1\n",
    "        j += 1\n",
    "\n",
    "    return i == sub_len\n",
    "\n",
    "main_list = [1, 2, 3, 4, 5, 6, 7, 8]\n",
    "sub_list = [2, 4, 6]\n",
    "result = is_subsequence(sub_list, main_list)\n",
    "\n",
    "if result:\n",
    "    print(\"The sub_list is a subsequence of the main_list.\")\n",
    "else:\n",
    "    print(\"The sub_list is not a subsequence of the main_list.\")"
   ]
  },
  {
   "cell_type": "code",
   "execution_count": null,
   "id": "2bce6d31",
   "metadata": {},
   "outputs": [],
   "source": [
    "#50. Swap two elements in a list by their indices."
   ]
  },
  {
   "cell_type": "code",
   "execution_count": 7,
   "id": "acc050f7",
   "metadata": {},
   "outputs": [
    {
     "name": "stdout",
     "output_type": "stream",
     "text": [
      "Original list: [1, 2, 3, 4, 5]\n",
      "List after swapping elements: [1, 4, 3, 2, 5]\n"
     ]
    }
   ],
   "source": [
    "def swap_elements_by_indices(lst, index1, index2):\n",
    "    if 0 <= index1 < len(lst) and 0 <= index2 < len(lst):\n",
    "        lst[index1], lst[index2] = lst[index2], lst[index1]\n",
    "\n",
    "my_list = [1, 2, 3, 4, 5]\n",
    "index1 = 1\n",
    "index2 = 3\n",
    "\n",
    "print(\"Original list:\", my_list)\n",
    "swap_elements_by_indices(my_list, index1, index2)\n",
    "print(\"List after swapping elements:\", my_list)"
   ]
  },
  {
   "cell_type": "markdown",
   "id": "cbaab4b1",
   "metadata": {},
   "source": [
    "# Tuple Based Assignment Problem "
   ]
  },
  {
   "cell_type": "code",
   "execution_count": null,
   "id": "6aec23f9",
   "metadata": {},
   "outputs": [],
   "source": [
    "#1. Create a tuple with integers from 1 to 5."
   ]
  },
  {
   "cell_type": "code",
   "execution_count": 11,
   "id": "e1d8b7b6",
   "metadata": {},
   "outputs": [
    {
     "name": "stdout",
     "output_type": "stream",
     "text": [
      "(1, 2, 3, 4, 5)\n"
     ]
    }
   ],
   "source": [
    "my_tuple = (1,2,3,4,5)\n",
    "print(my_tuple)"
   ]
  },
  {
   "cell_type": "code",
   "execution_count": null,
   "id": "62e9b219",
   "metadata": {},
   "outputs": [],
   "source": [
    "#2. Access the third element of a tuple."
   ]
  },
  {
   "cell_type": "code",
   "execution_count": 12,
   "id": "90272160",
   "metadata": {},
   "outputs": [
    {
     "name": "stdout",
     "output_type": "stream",
     "text": [
      "3\n"
     ]
    }
   ],
   "source": [
    "my_tuple = (1,2,3,4,5)\n",
    "print(my_tuple[2])"
   ]
  },
  {
   "cell_type": "code",
   "execution_count": null,
   "id": "684b6ec7",
   "metadata": {},
   "outputs": [],
   "source": [
    "#3. Find the length of a tuple without using the `len()` function."
   ]
  },
  {
   "cell_type": "code",
   "execution_count": 13,
   "id": "efc7443f",
   "metadata": {},
   "outputs": [
    {
     "name": "stdout",
     "output_type": "stream",
     "text": [
      "5\n"
     ]
    }
   ],
   "source": [
    "my_tuple = (1,2,3,4,5)\n",
    "length = 0\n",
    "for i in my_tuple:\n",
    "    length = length + 1\n",
    "print(length)"
   ]
  },
  {
   "cell_type": "code",
   "execution_count": null,
   "id": "b75ccbd1",
   "metadata": {},
   "outputs": [],
   "source": [
    "#4. Count the occurrences of an element in a tuple."
   ]
  },
  {
   "cell_type": "code",
   "execution_count": 16,
   "id": "c22fb2ed",
   "metadata": {},
   "outputs": [
    {
     "name": "stdout",
     "output_type": "stream",
     "text": [
      "4\n"
     ]
    }
   ],
   "source": [
    "my_tuple = (1,2,3,4,3,5,3,3)\n",
    "element_to_count = 3\n",
    "result = my_tuple.count(element_to_count)\n",
    "print(result)"
   ]
  },
  {
   "cell_type": "code",
   "execution_count": null,
   "id": "5a9fae98",
   "metadata": {},
   "outputs": [],
   "source": [
    "#5. Find the index of the first occurrence of an element in a tuple."
   ]
  },
  {
   "cell_type": "code",
   "execution_count": 17,
   "id": "27981970",
   "metadata": {},
   "outputs": [
    {
     "name": "stdout",
     "output_type": "stream",
     "text": [
      "2\n"
     ]
    }
   ],
   "source": [
    "my_tuple = (1,2,3,4,3,5,3,3)\n",
    "element = 3\n",
    "result = my_tuple.index(element)\n",
    "print(result)"
   ]
  },
  {
   "cell_type": "code",
   "execution_count": null,
   "id": "a9dd9bdc",
   "metadata": {},
   "outputs": [],
   "source": [
    "#6. Check if an element exists in a tuple."
   ]
  },
  {
   "cell_type": "code",
   "execution_count": 18,
   "id": "a4c7e5f5",
   "metadata": {},
   "outputs": [
    {
     "name": "stdout",
     "output_type": "stream",
     "text": [
      "4 exist in the tuple.\n"
     ]
    }
   ],
   "source": [
    "my_tuple = (1,2,3,4,5)\n",
    "element = 4\n",
    "if element in my_tuple:\n",
    "    print(f\"{element} exist in the tuple.\")\n",
    "else:\n",
    "    print(f\"{element} not exist in the tuple\")"
   ]
  },
  {
   "cell_type": "code",
   "execution_count": null,
   "id": "07a84217",
   "metadata": {},
   "outputs": [],
   "source": [
    "#7. Convert a tuple to a list."
   ]
  },
  {
   "cell_type": "code",
   "execution_count": 19,
   "id": "a5f959d6",
   "metadata": {},
   "outputs": [
    {
     "name": "stdout",
     "output_type": "stream",
     "text": [
      "[1, 2, 3, 4, 5]\n"
     ]
    }
   ],
   "source": [
    "my_tuple = (1,2,3,4,5)\n",
    "result = list(my_tuple)\n",
    "print(result)"
   ]
  },
  {
   "cell_type": "code",
   "execution_count": null,
   "id": "64219961",
   "metadata": {},
   "outputs": [],
   "source": [
    "#8. Convert a list to a tuple."
   ]
  },
  {
   "cell_type": "code",
   "execution_count": 20,
   "id": "72dcb421",
   "metadata": {},
   "outputs": [
    {
     "name": "stdout",
     "output_type": "stream",
     "text": [
      "(1, 2, 3, 4, 5)\n"
     ]
    }
   ],
   "source": [
    "my_list = [1,2,3,4,5]\n",
    "result = tuple(my_list)\n",
    "print(result)"
   ]
  },
  {
   "cell_type": "code",
   "execution_count": null,
   "id": "b992c4f8",
   "metadata": {},
   "outputs": [],
   "source": [
    "#9. Unpack the elements of a tuple into variables."
   ]
  },
  {
   "cell_type": "code",
   "execution_count": 21,
   "id": "7b4aa216",
   "metadata": {},
   "outputs": [
    {
     "name": "stdout",
     "output_type": "stream",
     "text": [
      "one:- 1\n",
      "two:- 2\n",
      "three:- 3\n"
     ]
    }
   ],
   "source": [
    "my_tuple = (1,2,3)\n",
    "one,two,three = my_tuple\n",
    "print(f\"one:- {one}\")\n",
    "print(f\"two:- {two}\")\n",
    "print(f\"three:- {three}\")"
   ]
  },
  {
   "cell_type": "code",
   "execution_count": null,
   "id": "c9eabad5",
   "metadata": {},
   "outputs": [],
   "source": [
    "#10. Create a tuple of even numbers from 1 to 10."
   ]
  },
  {
   "cell_type": "code",
   "execution_count": 25,
   "id": "1d5680d2",
   "metadata": {},
   "outputs": [
    {
     "name": "stdout",
     "output_type": "stream",
     "text": [
      "(2, 4, 6, 8, 10)\n"
     ]
    }
   ],
   "source": [
    "my_tuple = tuple(x for x in range(2, 11, 2))\n",
    "print(my_tuple)"
   ]
  },
  {
   "cell_type": "code",
   "execution_count": null,
   "id": "2cf8a9c9",
   "metadata": {},
   "outputs": [],
   "source": [
    "#11. Create a tuple of odd numbers from 1 to 10."
   ]
  },
  {
   "cell_type": "code",
   "execution_count": 26,
   "id": "75f1299e",
   "metadata": {},
   "outputs": [
    {
     "name": "stdout",
     "output_type": "stream",
     "text": [
      "(1, 3, 5, 7, 9)\n"
     ]
    }
   ],
   "source": [
    "my_tuple = tuple(x for x in range(1,11,2))\n",
    "print(my_tuple)"
   ]
  },
  {
   "cell_type": "code",
   "execution_count": null,
   "id": "9b773637",
   "metadata": {},
   "outputs": [],
   "source": [
    "#12. Concatenate two tuples."
   ]
  },
  {
   "cell_type": "code",
   "execution_count": 27,
   "id": "d56603c4",
   "metadata": {},
   "outputs": [
    {
     "name": "stdout",
     "output_type": "stream",
     "text": [
      "(1, 3, 5, 2, 4, 6)\n"
     ]
    }
   ],
   "source": [
    "tuple1 = (1,3,5)\n",
    "tuple2 = (2,4,6)\n",
    "concatenate = tuple1 + tuple2\n",
    "print(concatenate)"
   ]
  },
  {
   "cell_type": "code",
   "execution_count": null,
   "id": "3a64c539",
   "metadata": {},
   "outputs": [],
   "source": [
    "#13. Repeat a tuple three times."
   ]
  },
  {
   "cell_type": "code",
   "execution_count": 29,
   "id": "043ed556",
   "metadata": {},
   "outputs": [
    {
     "name": "stdout",
     "output_type": "stream",
     "text": [
      "(1, 2, 1, 2, 1, 2)\n"
     ]
    }
   ],
   "source": [
    "my_tuple = (1,2)\n",
    "repeated_tuple = my_tuple * 3\n",
    "print(repeated_tuple)"
   ]
  },
  {
   "cell_type": "code",
   "execution_count": null,
   "id": "a0971d80",
   "metadata": {},
   "outputs": [],
   "source": [
    "#14. Check if a tuple is empty."
   ]
  },
  {
   "cell_type": "code",
   "execution_count": 30,
   "id": "ee9a1aa7",
   "metadata": {},
   "outputs": [
    {
     "name": "stdout",
     "output_type": "stream",
     "text": [
      "tuple is empty\n"
     ]
    }
   ],
   "source": [
    "my_tuple = ()\n",
    "if len(my_tuple)==0:\n",
    "    print(\"tuple is empty\")\n",
    "else:\n",
    "    print(\"tuple is not empty\")"
   ]
  },
  {
   "cell_type": "code",
   "execution_count": null,
   "id": "82f7ee23",
   "metadata": {},
   "outputs": [],
   "source": [
    "#15. Create a nested tuple."
   ]
  },
  {
   "cell_type": "code",
   "execution_count": 31,
   "id": "e22bf3b3",
   "metadata": {},
   "outputs": [
    {
     "name": "stdout",
     "output_type": "stream",
     "text": [
      "(1, 2, (3, 4), (5, 6))\n"
     ]
    }
   ],
   "source": [
    "nested_tuple = (1,2,(3,4),(5,6))\n",
    "print(nested_tuple)"
   ]
  },
  {
   "cell_type": "code",
   "execution_count": null,
   "id": "1f5286c3",
   "metadata": {},
   "outputs": [],
   "source": [
    "#16. Access the first element of a nested tuple."
   ]
  },
  {
   "cell_type": "code",
   "execution_count": 34,
   "id": "0932f6a1",
   "metadata": {},
   "outputs": [
    {
     "name": "stdout",
     "output_type": "stream",
     "text": [
      "1\n"
     ]
    }
   ],
   "source": [
    "nested_tuple = ((1,2),(3,4),(5,6))\n",
    "print(nested_tuple[0][0])"
   ]
  },
  {
   "cell_type": "code",
   "execution_count": null,
   "id": "12632308",
   "metadata": {},
   "outputs": [],
   "source": [
    "#17. Create a tuple with a single element."
   ]
  },
  {
   "cell_type": "code",
   "execution_count": 37,
   "id": "cab73dfc",
   "metadata": {},
   "outputs": [
    {
     "name": "stdout",
     "output_type": "stream",
     "text": [
      "(1,)\n"
     ]
    },
    {
     "data": {
      "text/plain": [
       "tuple"
      ]
     },
     "execution_count": 37,
     "metadata": {},
     "output_type": "execute_result"
    }
   ],
   "source": [
    "my_tup = (1,)\n",
    "print(my_tup)\n",
    "type(my_tup)"
   ]
  },
  {
   "cell_type": "code",
   "execution_count": null,
   "id": "e688b707",
   "metadata": {},
   "outputs": [],
   "source": [
    "#18. Compare two tuples."
   ]
  },
  {
   "cell_type": "code",
   "execution_count": 38,
   "id": "dab0fab9",
   "metadata": {},
   "outputs": [
    {
     "name": "stdout",
     "output_type": "stream",
     "text": [
      "Both the tuples are equal\n"
     ]
    }
   ],
   "source": [
    "tup1 = (1,2,3)\n",
    "tup2 = (1,2,3)\n",
    "if tup1 == tup2:\n",
    "    print(\"Both the tuples are equal\")\n",
    "else:\n",
    "    print(\"Both the tuples are not equal\")"
   ]
  },
  {
   "cell_type": "code",
   "execution_count": null,
   "id": "6eb7d348",
   "metadata": {},
   "outputs": [],
   "source": [
    "#19. Delete a tuple."
   ]
  },
  {
   "cell_type": "code",
   "execution_count": 40,
   "id": "46572f28",
   "metadata": {},
   "outputs": [],
   "source": [
    "my_tup = (1,2,3,4)\n",
    "del my_tup"
   ]
  },
  {
   "cell_type": "code",
   "execution_count": null,
   "id": "cabfb0e3",
   "metadata": {},
   "outputs": [],
   "source": [
    "#20. Slice a tuple."
   ]
  },
  {
   "cell_type": "code",
   "execution_count": 41,
   "id": "9559b72b",
   "metadata": {},
   "outputs": [
    {
     "name": "stdout",
     "output_type": "stream",
     "text": [
      "(3, 4, 5)\n"
     ]
    }
   ],
   "source": [
    "my_tup = (1,2,3,4,5,6,7)\n",
    "print(my_tup[2:5])"
   ]
  },
  {
   "cell_type": "code",
   "execution_count": null,
   "id": "b84cdccc",
   "metadata": {},
   "outputs": [],
   "source": [
    "#21. Find the maximum value in a tuple."
   ]
  },
  {
   "cell_type": "code",
   "execution_count": 42,
   "id": "b5fc5e58",
   "metadata": {},
   "outputs": [
    {
     "name": "stdout",
     "output_type": "stream",
     "text": [
      "7\n"
     ]
    }
   ],
   "source": [
    "my_tup = (1,2,3,4,5,6,7)\n",
    "print(max(my_tup))"
   ]
  },
  {
   "cell_type": "code",
   "execution_count": null,
   "id": "52bb4f77",
   "metadata": {},
   "outputs": [],
   "source": [
    "#22. Find the minimum value in a tuple."
   ]
  },
  {
   "cell_type": "code",
   "execution_count": 43,
   "id": "e07bb10b",
   "metadata": {},
   "outputs": [
    {
     "name": "stdout",
     "output_type": "stream",
     "text": [
      "1\n"
     ]
    }
   ],
   "source": [
    "my_tup = (1,2,3,4,5,6,7)\n",
    "print(min(my_tup))"
   ]
  },
  {
   "cell_type": "code",
   "execution_count": null,
   "id": "50794bc5",
   "metadata": {},
   "outputs": [],
   "source": [
    "#23. Convert a string to a tuple of characters."
   ]
  },
  {
   "cell_type": "code",
   "execution_count": 47,
   "id": "446d5a2e",
   "metadata": {},
   "outputs": [
    {
     "name": "stdout",
     "output_type": "stream",
     "text": [
      "('k', 'a', 'v', 'i', 'n')\n"
     ]
    }
   ],
   "source": [
    "strr = \"kavin\"\n",
    "tup = tuple(char for char in strr)\n",
    "print(tup)"
   ]
  },
  {
   "cell_type": "code",
   "execution_count": null,
   "id": "18f811c4",
   "metadata": {},
   "outputs": [],
   "source": [
    "#24. Convert a tuple of characters to a string."
   ]
  },
  {
   "cell_type": "code",
   "execution_count": 51,
   "id": "9d0c7af7",
   "metadata": {},
   "outputs": [
    {
     "name": "stdout",
     "output_type": "stream",
     "text": [
      "kavin\n"
     ]
    }
   ],
   "source": [
    "tup = ('k', 'a', 'v', 'i', 'n')\n",
    "strr = ''.join(tup)\n",
    "print(strr)"
   ]
  },
  {
   "cell_type": "code",
   "execution_count": null,
   "id": "42ea8042",
   "metadata": {},
   "outputs": [],
   "source": [
    "#25. Create a tuple from multiple data types."
   ]
  },
  {
   "cell_type": "code",
   "execution_count": 53,
   "id": "44143c1f",
   "metadata": {},
   "outputs": [
    {
     "name": "stdout",
     "output_type": "stream",
     "text": [
      "(1, 'hi', False, 6.9, [3, 7, 9], {'name': 'Kavin'})\n"
     ]
    },
    {
     "data": {
      "text/plain": [
       "tuple"
      ]
     },
     "execution_count": 53,
     "metadata": {},
     "output_type": "execute_result"
    }
   ],
   "source": [
    "tup = (1, \"hi\", False, 6.9, [3,7,9], {\"name\": \"Kavin\"})\n",
    "print(tup)\n",
    "type(tup)"
   ]
  },
  {
   "cell_type": "code",
   "execution_count": null,
   "id": "d9f48127",
   "metadata": {},
   "outputs": [],
   "source": [
    "#26. Check if two tuples are identical."
   ]
  },
  {
   "cell_type": "code",
   "execution_count": 54,
   "id": "d02cb487",
   "metadata": {},
   "outputs": [
    {
     "name": "stdout",
     "output_type": "stream",
     "text": [
      "Not identical\n"
     ]
    }
   ],
   "source": [
    "tup1 = (1,2,3)\n",
    "tup2 = (1,3,2)\n",
    "if tup1 == tup2:\n",
    "    print(\"They are identical\")\n",
    "else:\n",
    "    print(\"Not identical\")"
   ]
  },
  {
   "cell_type": "code",
   "execution_count": null,
   "id": "fbd79c0a",
   "metadata": {},
   "outputs": [],
   "source": [
    "#27. Sort the elements of a tuple."
   ]
  },
  {
   "cell_type": "code",
   "execution_count": 59,
   "id": "8c0c9740",
   "metadata": {},
   "outputs": [
    {
     "name": "stdout",
     "output_type": "stream",
     "text": [
      "(1, 2, 3, 4, 5, 6, 7, 8)\n"
     ]
    }
   ],
   "source": [
    "tup = (5,8,1,6,7,2,4,3)\n",
    "sort_tuple = sorted(tup)\n",
    "sort_tup = tuple(sort_tuple)\n",
    "print(sort_tup)"
   ]
  },
  {
   "cell_type": "code",
   "execution_count": null,
   "id": "6b8df208",
   "metadata": {},
   "outputs": [],
   "source": [
    "#28. Convert a tuple of integers to a tuple of strings."
   ]
  },
  {
   "cell_type": "code",
   "execution_count": 62,
   "id": "3a73230b",
   "metadata": {},
   "outputs": [
    {
     "name": "stdout",
     "output_type": "stream",
     "text": [
      "('1', '2', '3', '4')\n"
     ]
    }
   ],
   "source": [
    "tup = (1,2,3,4)\n",
    "tup1 = tuple(str(i) for i in tup)\n",
    "print(tup1)"
   ]
  },
  {
   "cell_type": "code",
   "execution_count": null,
   "id": "7c9012d5",
   "metadata": {},
   "outputs": [],
   "source": [
    "#29. Convert a tuple of strings to a tuple of integers."
   ]
  },
  {
   "cell_type": "code",
   "execution_count": 64,
   "id": "6d308759",
   "metadata": {},
   "outputs": [
    {
     "name": "stdout",
     "output_type": "stream",
     "text": [
      "(1, 2, 3, 4)\n"
     ]
    }
   ],
   "source": [
    "strr = ('1', '2', '3', '4')\n",
    "tup = tuple(int(x) for x in strr)\n",
    "print(tup)"
   ]
  },
  {
   "cell_type": "code",
   "execution_count": null,
   "id": "ab4fc8f9",
   "metadata": {},
   "outputs": [],
   "source": [
    "#30. Merge two tuples."
   ]
  },
  {
   "cell_type": "code",
   "execution_count": 65,
   "id": "8ba63ca1",
   "metadata": {},
   "outputs": [
    {
     "name": "stdout",
     "output_type": "stream",
     "text": [
      "(1, 2, 3, 4)\n"
     ]
    }
   ],
   "source": [
    "tup1 = (1,2)\n",
    "tup2 = (3,4)\n",
    "tup3 = tup1 + tup2\n",
    "print(tup3)"
   ]
  },
  {
   "cell_type": "code",
   "execution_count": null,
   "id": "16a4765f",
   "metadata": {},
   "outputs": [],
   "source": [
    "#31. Flatten a nested tuple."
   ]
  },
  {
   "cell_type": "code",
   "execution_count": 66,
   "id": "5684a6c6",
   "metadata": {},
   "outputs": [
    {
     "name": "stdout",
     "output_type": "stream",
     "text": [
      "(1, 2, 3, 4, 5, 6, 7)\n"
     ]
    }
   ],
   "source": [
    "def flatten_tuple(nested_tuple):\n",
    "    flat_list = []\n",
    "    for item in nested_tuple:\n",
    "        if isinstance(item, tuple):\n",
    "            flat_list.extend(flatten_tuple(item))\n",
    "        else:\n",
    "            flat_list.append(item)\n",
    "    return tuple(flat_list)\n",
    "\n",
    "nested_tuple = ((1, 2), (3, (4, 5)), (6, 7))\n",
    "flattened = flatten_tuple(nested_tuple)\n",
    "print(flattened)"
   ]
  },
  {
   "cell_type": "code",
   "execution_count": null,
   "id": "976f4839",
   "metadata": {},
   "outputs": [],
   "source": [
    "#32. Create a tuple of the first 5 prime numbers."
   ]
  },
  {
   "cell_type": "code",
   "execution_count": 69,
   "id": "438d00e8",
   "metadata": {},
   "outputs": [
    {
     "name": "stdout",
     "output_type": "stream",
     "text": [
      "(2, 3, 5, 7, 11)\n"
     ]
    }
   ],
   "source": [
    "def prime(n):\n",
    "    if n<=1:\n",
    "        return False\n",
    "    for i in range(2, int(n**0.5)+1):\n",
    "        if n % i == 0:\n",
    "            return False\n",
    "    return True\n",
    "prime_num = (num for num in range(2,20) if prime(num))\n",
    "prime_tuple = tuple(prime_num)\n",
    "print(prime_tuple[:5])"
   ]
  },
  {
   "cell_type": "code",
   "execution_count": null,
   "id": "777772dc",
   "metadata": {},
   "outputs": [],
   "source": [
    "#33. Check if a tuple is a palindrome."
   ]
  },
  {
   "cell_type": "code",
   "execution_count": 73,
   "id": "5e4e2520",
   "metadata": {},
   "outputs": [
    {
     "name": "stdout",
     "output_type": "stream",
     "text": [
      "This tuple is palindrome\n"
     ]
    }
   ],
   "source": [
    "def is_palindrome(tup):\n",
    "    return tup == tup[::-1]\n",
    "tup = (1,2,3,2,1)\n",
    "if is_palindrome(tup):\n",
    "    print(\"This tuple is palindrome\")\n",
    "else:\n",
    "    print(\"This tuple is not a palindrome\")"
   ]
  },
  {
   "cell_type": "code",
   "execution_count": null,
   "id": "e5dfc3ce",
   "metadata": {},
   "outputs": [],
   "source": [
    "#34. Create a tuple of squares of numbers from 1 to 5."
   ]
  },
  {
   "cell_type": "code",
   "execution_count": 75,
   "id": "fd99cb99",
   "metadata": {},
   "outputs": [
    {
     "name": "stdout",
     "output_type": "stream",
     "text": [
      "(1, 4, 9, 16, 25)\n"
     ]
    }
   ],
   "source": [
    "tup = (1,2,3,4,5)\n",
    "sqr_tup = tuple(num**2 for num in tup)\n",
    "print(sqr_tup)"
   ]
  },
  {
   "cell_type": "code",
   "execution_count": null,
   "id": "d73ed5cb",
   "metadata": {},
   "outputs": [],
   "source": [
    "#35. Filter out all even numbers from a tuple."
   ]
  },
  {
   "cell_type": "code",
   "execution_count": 77,
   "id": "293d298a",
   "metadata": {},
   "outputs": [
    {
     "name": "stdout",
     "output_type": "stream",
     "text": [
      "(1, 3, 5, 7, 9)\n"
     ]
    }
   ],
   "source": [
    "tup = (1,2,3,4,5,6,7,8,9,10)\n",
    "filt_tup = tuple(num for num in tup if num % 2 != 0)\n",
    "print(filt_tup)"
   ]
  },
  {
   "cell_type": "code",
   "execution_count": null,
   "id": "e8044340",
   "metadata": {},
   "outputs": [],
   "source": [
    "#36. Multiply all elements in a tuple by 2."
   ]
  },
  {
   "cell_type": "code",
   "execution_count": 78,
   "id": "a7344238",
   "metadata": {},
   "outputs": [
    {
     "name": "stdout",
     "output_type": "stream",
     "text": [
      "(4, 8, 12)\n"
     ]
    }
   ],
   "source": [
    "tup = (2,4,6)\n",
    "mul_tup = tuple(x*2 for x in tup)\n",
    "print(mul_tup)"
   ]
  },
  {
   "cell_type": "code",
   "execution_count": null,
   "id": "86e3c419",
   "metadata": {},
   "outputs": [],
   "source": [
    "#37. Create a tuple of random numbers."
   ]
  },
  {
   "cell_type": "code",
   "execution_count": 79,
   "id": "75e3327d",
   "metadata": {},
   "outputs": [
    {
     "name": "stdout",
     "output_type": "stream",
     "text": [
      "(2, 8, 10, 1, 8)\n"
     ]
    }
   ],
   "source": [
    "import random\n",
    "rand_num = tuple(random.randint(1,10) for i in range(5))\n",
    "print(rand_num)"
   ]
  },
  {
   "cell_type": "code",
   "execution_count": null,
   "id": "d31a1582",
   "metadata": {},
   "outputs": [],
   "source": [
    "#38. Check if a tuple is sorted."
   ]
  },
  {
   "cell_type": "code",
   "execution_count": 80,
   "id": "40f6db26",
   "metadata": {},
   "outputs": [
    {
     "name": "stdout",
     "output_type": "stream",
     "text": [
      "This tuple is not sorted\n"
     ]
    }
   ],
   "source": [
    "tup = (1,5,2,1)\n",
    "if tup == tuple(sorted(tup)):\n",
    "    print(\"This tuple is sorted\")\n",
    "else:\n",
    "    print(\"This tuple is not sorted\")"
   ]
  },
  {
   "cell_type": "code",
   "execution_count": null,
   "id": "0fa6a8e0",
   "metadata": {},
   "outputs": [],
   "source": [
    "#39. Rotate a tuple to the left by `n` positions."
   ]
  },
  {
   "cell_type": "code",
   "execution_count": 84,
   "id": "222655ac",
   "metadata": {},
   "outputs": [
    {
     "name": "stdout",
     "output_type": "stream",
     "text": [
      "(3, 4, 5, 1, 2)\n"
     ]
    }
   ],
   "source": [
    "tup = (1,2,3,4,5)\n",
    "n = 2\n",
    "rotated_tup = tup[n:] + tup[:n]\n",
    "print(rotated_tup)"
   ]
  },
  {
   "cell_type": "code",
   "execution_count": null,
   "id": "dfd2556e",
   "metadata": {},
   "outputs": [],
   "source": [
    "#40. Rotate a tuple to the right by `n` positions."
   ]
  },
  {
   "cell_type": "code",
   "execution_count": 85,
   "id": "095fb3ef",
   "metadata": {},
   "outputs": [
    {
     "name": "stdout",
     "output_type": "stream",
     "text": [
      "(4, 5, 1, 2, 3)\n"
     ]
    }
   ],
   "source": [
    "tup = (1,2,3,4,5)\n",
    "n = 2\n",
    "rotate_right = len(tup)-n\n",
    "rotated_tup = tup[rotate_right:] + tup[:rotate_right]\n",
    "print(rotated_tup)"
   ]
  },
  {
   "cell_type": "code",
   "execution_count": null,
   "id": "b5b6b592",
   "metadata": {},
   "outputs": [],
   "source": [
    "#41. Create a tuple of the first 5 Fibonacci numbers."
   ]
  },
  {
   "cell_type": "code",
   "execution_count": 86,
   "id": "acd2c6e5",
   "metadata": {},
   "outputs": [
    {
     "name": "stdout",
     "output_type": "stream",
     "text": [
      "(0, 1, 1, 2, 3)\n"
     ]
    }
   ],
   "source": [
    "def fib(n):\n",
    "    fibonacci = [0,1]\n",
    "    while len(fibonacci) < n:\n",
    "        next_num = fibonacci[-1] + fibonacci[-2]\n",
    "        fibonacci.append(next_num)\n",
    "    return tuple(fibonacci)\n",
    "print(fib(5))"
   ]
  },
  {
   "cell_type": "code",
   "execution_count": null,
   "id": "51794057",
   "metadata": {},
   "outputs": [],
   "source": [
    "#42. Create a tuple from user input."
   ]
  },
  {
   "cell_type": "code",
   "execution_count": 87,
   "id": "97e65596",
   "metadata": {},
   "outputs": [
    {
     "name": "stdout",
     "output_type": "stream",
     "text": [
      "Enter elements with spaceDhoni virat rohit\n",
      "('Dhoni', 'virat', 'rohit')\n"
     ]
    }
   ],
   "source": [
    "user_inp = input(\"Enter elements with space\").split()\n",
    "result = tuple(user_inp)\n",
    "print(result)"
   ]
  },
  {
   "cell_type": "code",
   "execution_count": null,
   "id": "998ac47e",
   "metadata": {},
   "outputs": [],
   "source": [
    "#43. Swap two elements in a tuple."
   ]
  },
  {
   "cell_type": "code",
   "execution_count": 94,
   "id": "79618e76",
   "metadata": {},
   "outputs": [
    {
     "name": "stdout",
     "output_type": "stream",
     "text": [
      "(2, 1, 3, 4, 5)\n"
     ]
    }
   ],
   "source": [
    "tup = (1,2,3,4,5)\n",
    "a,b,c,d,e = tup\n",
    "temp = a\n",
    "a = b\n",
    "b = temp\n",
    "result = a,b,c,d,e\n",
    "print(result)"
   ]
  },
  {
   "cell_type": "code",
   "execution_count": null,
   "id": "ab23a87d",
   "metadata": {},
   "outputs": [],
   "source": [
    "#44. Reverse the elements of a tuple."
   ]
  },
  {
   "cell_type": "code",
   "execution_count": 95,
   "id": "3ed6d724",
   "metadata": {},
   "outputs": [
    {
     "name": "stdout",
     "output_type": "stream",
     "text": [
      "(9, 7, 5, 3, 1)\n"
     ]
    }
   ],
   "source": [
    "tup = (1,3,5,7,9)\n",
    "reverse_tup = tup[::-1]\n",
    "print(reverse_tup)"
   ]
  },
  {
   "cell_type": "code",
   "execution_count": null,
   "id": "eb7ca443",
   "metadata": {},
   "outputs": [],
   "source": [
    "#45. Create a tuple of the first `n` powers of 2."
   ]
  },
  {
   "cell_type": "code",
   "execution_count": 98,
   "id": "b29eed84",
   "metadata": {},
   "outputs": [
    {
     "name": "stdout",
     "output_type": "stream",
     "text": [
      "(1, 4, 9, 16, 25)\n"
     ]
    }
   ],
   "source": [
    "n = 5\n",
    "power_of_2 = []\n",
    "for i in range(1,n+1):\n",
    "    power_of_2.append(i**2)\n",
    "result = tuple(power_of_2)\n",
    "print(result)"
   ]
  },
  {
   "cell_type": "code",
   "execution_count": null,
   "id": "022cafe6",
   "metadata": {},
   "outputs": [],
   "source": [
    "#46. Find the longest string in a tuple of strings."
   ]
  },
  {
   "cell_type": "code",
   "execution_count": 101,
   "id": "a9ed22f7",
   "metadata": {},
   "outputs": [
    {
     "name": "stdout",
     "output_type": "stream",
     "text": [
      "manjunathan\n"
     ]
    }
   ],
   "source": [
    "tup = ('kavin','mythili','naveena','manjunathan')\n",
    "long_str = tup[0]\n",
    "for word in tup:\n",
    "    if len(word) > len(long_str):\n",
    "        long_str = word\n",
    "print(long_str)"
   ]
  },
  {
   "cell_type": "code",
   "execution_count": null,
   "id": "0df4d8d5",
   "metadata": {},
   "outputs": [],
   "source": [
    "#47. Find the shortest string in a tuple of strings."
   ]
  },
  {
   "cell_type": "code",
   "execution_count": 103,
   "id": "03a6dbde",
   "metadata": {},
   "outputs": [
    {
     "name": "stdout",
     "output_type": "stream",
     "text": [
      "kavin\n"
     ]
    }
   ],
   "source": [
    "tup = ('kavin','mythili','naveena','manjunathan')\n",
    "short_str = tup[0]\n",
    "for word in tup:\n",
    "    if len(word) < len(short_str):\n",
    "        short_str = word\n",
    "print(short_str)"
   ]
  },
  {
   "cell_type": "code",
   "execution_count": null,
   "id": "c00c110c",
   "metadata": {},
   "outputs": [],
   "source": [
    "#48. Create a tuple of the first `n` triangular numbers."
   ]
  },
  {
   "cell_type": "code",
   "execution_count": null,
   "id": "53745f1f",
   "metadata": {},
   "outputs": [],
   "source": []
  },
  {
   "cell_type": "code",
   "execution_count": null,
   "id": "54ccfb56",
   "metadata": {},
   "outputs": [],
   "source": [
    "#49. Check if a tuple contains another tuple as a subsequence."
   ]
  },
  {
   "cell_type": "code",
   "execution_count": null,
   "id": "8130aa2c",
   "metadata": {},
   "outputs": [],
   "source": []
  },
  {
   "cell_type": "code",
   "execution_count": null,
   "id": "04a3090c",
   "metadata": {},
   "outputs": [],
   "source": [
    "#50. Create a tuple of alternating 1s and 0s of length `n`."
   ]
  },
  {
   "cell_type": "code",
   "execution_count": null,
   "id": "1b545cec",
   "metadata": {},
   "outputs": [],
   "source": []
  }
 ],
 "metadata": {
  "kernelspec": {
   "display_name": "Python 3 (ipykernel)",
   "language": "python",
   "name": "python3"
  },
  "language_info": {
   "codemirror_mode": {
    "name": "ipython",
    "version": 3
   },
   "file_extension": ".py",
   "mimetype": "text/x-python",
   "name": "python",
   "nbconvert_exporter": "python",
   "pygments_lexer": "ipython3",
   "version": "3.10.9"
  }
 },
 "nbformat": 4,
 "nbformat_minor": 5
}
