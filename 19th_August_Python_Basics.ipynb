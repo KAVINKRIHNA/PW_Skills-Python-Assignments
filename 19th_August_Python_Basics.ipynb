{
 "cells": [
  {
   "cell_type": "code",
   "execution_count": 2,
   "id": "a94ca189",
   "metadata": {},
   "outputs": [
    {
     "data": {
      "text/plain": [
       "(9, 21)"
      ]
     },
     "execution_count": 2,
     "metadata": {},
     "output_type": "execute_result"
    }
   ],
   "source": [
    "a = 21\n",
    "b = 9\n",
    "a,b = b,a\n",
    "a,b\n",
    "\n",
    "#here im declaring two variables a and b with values 21 and 9\n",
    "#next im swaping the variables a,b = b,a so the values of a and b will be swapped"
   ]
  },
  {
   "cell_type": "code",
   "execution_count": 4,
   "id": "257c463e",
   "metadata": {},
   "outputs": [
    {
     "name": "stdout",
     "output_type": "stream",
     "text": [
      "Enter the length of the rectangle :- 10.8\n",
      "Enter the width of the rectangle :- 18.2\n"
     ]
    },
    {
     "data": {
      "text/plain": [
       "196.56"
      ]
     },
     "execution_count": 4,
     "metadata": {},
     "output_type": "execute_result"
    }
   ],
   "source": [
    "length = float(input(\"Enter the length of the rectangle :- \"))\n",
    "width = float(input(\"Enter the width of the rectangle :- \"))\n",
    "area = length * width\n",
    "area\n",
    "\n",
    "#getting the length of rect from user\n",
    "#getting the width of rect from user\n",
    "#using the area of rect formula calculating the area"
   ]
  },
  {
   "cell_type": "code",
   "execution_count": 13,
   "id": "92be99bb",
   "metadata": {},
   "outputs": [
    {
     "name": "stdout",
     "output_type": "stream",
     "text": [
      "Enter the temperature in celcius: 31.9\n"
     ]
    }
   ],
   "source": [
    "#get input from the user\n",
    "Celsius = float(input(\"Enter the temperature in celcius: \"))"
   ]
  },
  {
   "cell_type": "code",
   "execution_count": 15,
   "id": "44529eda",
   "metadata": {},
   "outputs": [],
   "source": [
    "#convert celsius to fahrenheit using this formula\n",
    "fahrenheit = (Celsius * 9/5) + 32"
   ]
  },
  {
   "cell_type": "code",
   "execution_count": 16,
   "id": "a09836ff",
   "metadata": {},
   "outputs": [
    {
     "name": "stdout",
     "output_type": "stream",
     "text": [
      "31.9 degrees celsius is equal to 89.41999999999999 degrees of fahrenheit\n"
     ]
    }
   ],
   "source": [
    "print(f\"{Celsius} degrees celsius is equal to {fahrenheit} degrees of fahrenheit\")"
   ]
  },
  {
   "cell_type": "code",
   "execution_count": 17,
   "id": "d7d926df",
   "metadata": {},
   "outputs": [
    {
     "name": "stdout",
     "output_type": "stream",
     "text": [
      "Enter a name :- Dhoni\n"
     ]
    }
   ],
   "source": [
    "#get a str from user\n",
    "player = input(\"Enter a name :- \")"
   ]
  },
  {
   "cell_type": "code",
   "execution_count": 18,
   "id": "e9ef2276",
   "metadata": {},
   "outputs": [
    {
     "data": {
      "text/plain": [
       "5"
      ]
     },
     "execution_count": 18,
     "metadata": {},
     "output_type": "execute_result"
    }
   ],
   "source": [
    "#using the len function finding the length of the string\n",
    "len(player)"
   ]
  },
  {
   "cell_type": "code",
   "execution_count": 19,
   "id": "824b91f1",
   "metadata": {},
   "outputs": [
    {
     "name": "stdout",
     "output_type": "stream",
     "text": [
      "Enter a sentence : My name is Kavin krishna\n"
     ]
    }
   ],
   "source": [
    "#get a sentence from user\n",
    "sentence = input(\"Enter a sentence : \")"
   ]
  },
  {
   "cell_type": "code",
   "execution_count": 20,
   "id": "c2ae4f1a",
   "metadata": {},
   "outputs": [],
   "source": [
    "#setting initial vowel count to 0\n",
    "vowel_count = 0"
   ]
  },
  {
   "cell_type": "code",
   "execution_count": 21,
   "id": "d9d58aea",
   "metadata": {},
   "outputs": [],
   "source": [
    "#defining the list of vowels\n",
    "vowels = ['a','e','i','o','u']"
   ]
  },
  {
   "cell_type": "code",
   "execution_count": 22,
   "id": "5136acc8",
   "metadata": {},
   "outputs": [],
   "source": [
    "#converting the sentence to lower \n",
    "sentence = sentence.lower()"
   ]
  },
  {
   "cell_type": "code",
   "execution_count": 23,
   "id": "6cfc5500",
   "metadata": {},
   "outputs": [],
   "source": [
    "#using for loop to iterate through the sentence and check any character is vowel\n",
    "for char in sentence:\n",
    "    if char in vowels:\n",
    "        vowel_count += 1"
   ]
  },
  {
   "cell_type": "code",
   "execution_count": 24,
   "id": "e8bfb5f5",
   "metadata": {},
   "outputs": [
    {
     "data": {
      "text/plain": [
       "7"
      ]
     },
     "execution_count": 24,
     "metadata": {},
     "output_type": "execute_result"
    }
   ],
   "source": [
    "vowel_count"
   ]
  },
  {
   "cell_type": "code",
   "execution_count": 25,
   "id": "805ac574",
   "metadata": {},
   "outputs": [],
   "source": [
    "string = 'pwskills'\n",
    "#reverse a string using slicing\n",
    "reversed_string = string[::-1]"
   ]
  },
  {
   "cell_type": "code",
   "execution_count": 26,
   "id": "cabc68e6",
   "metadata": {},
   "outputs": [
    {
     "data": {
      "text/plain": [
       "'sllikswp'"
      ]
     },
     "execution_count": 26,
     "metadata": {},
     "output_type": "execute_result"
    }
   ],
   "source": [
    "reversed_string"
   ]
  },
  {
   "cell_type": "code",
   "execution_count": 2,
   "id": "d26e4131",
   "metadata": {},
   "outputs": [
    {
     "name": "stdout",
     "output_type": "stream",
     "text": [
      "Enter a string: mom\n",
      "This String is a Palindrome\n",
      "None\n"
     ]
    }
   ],
   "source": [
    "def isPalindrome(strr):                             #defining a function isPalindrome\n",
    "    if (strr == strr[::-1]):                        #check if the given string is equal to the reverse of the string\n",
    "        print(\"This String is a Palindrome\")\n",
    "    else:\n",
    "        print(\"This String is not a Palindrome\")\n",
    "strr = input(\"Enter a string: \")\n",
    "print(isPalindrome(strr))"
   ]
  },
  {
   "cell_type": "code",
   "execution_count": 4,
   "id": "989cff75",
   "metadata": {},
   "outputs": [
    {
     "name": "stdout",
     "output_type": "stream",
     "text": [
      "Enter a string:-  Kavin krishna . s\n"
     ]
    },
    {
     "data": {
      "text/plain": [
       "'Kavinkrishna.s'"
      ]
     },
     "execution_count": 4,
     "metadata": {},
     "output_type": "execute_result"
    }
   ],
   "source": [
    "input_string = input('Enter a string:- ')        #getting an string from user\n",
    "modified_string = input_string.replace(\" \",\"\")   #removing the spaces from the string\n",
    "modified_string"
   ]
  }
 ],
 "metadata": {
  "kernelspec": {
   "display_name": "Python 3 (ipykernel)",
   "language": "python",
   "name": "python3"
  },
  "language_info": {
   "codemirror_mode": {
    "name": "ipython",
    "version": 3
   },
   "file_extension": ".py",
   "mimetype": "text/x-python",
   "name": "python",
   "nbconvert_exporter": "python",
   "pygments_lexer": "ipython3",
   "version": "3.10.9"
  }
 },
 "nbformat": 4,
 "nbformat_minor": 5
}
